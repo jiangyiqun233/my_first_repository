{
 "cells": [
  {
   "cell_type": "markdown",
   "metadata": {},
   "source": [
    "# 1. Print 用法"
   ]
  },
  {
   "cell_type": "code",
   "execution_count": 5,
   "metadata": {},
   "outputs": [
    {
     "name": "stdout",
     "output_type": "stream",
     "text": [
      "Hi Mike\n",
      "Hi,Mike\n"
     ]
    }
   ],
   "source": [
    "print('Hi', 'Mike')\n",
    "print('Hi', 'Mike', sep=',', end='\\n') # sep：分离符号， end结尾符号"
   ]
  },
  {
   "cell_type": "code",
   "execution_count": 7,
   "metadata": {},
   "outputs": [
    {
     "name": "stdout",
     "output_type": "stream",
     "text": [
      "I don't know\n",
      "I don't know\n"
     ]
    }
   ],
   "source": [
    "print(\"I don't know\")\n",
    "print('I don\\'t know') # backslash"
   ]
  },
  {
   "cell_type": "code",
   "execution_count": 8,
   "metadata": {},
   "outputs": [
    {
     "name": "stdout",
     "output_type": "stream",
     "text": [
      "C:\n",
      "ame\n",
      "ame\n",
      "C:\\name\\name\n"
     ]
    }
   ],
   "source": [
    "print('C:\\name\\name')\n",
    "print(r'C:\\name\\name')# raw"
   ]
  },
  {
   "cell_type": "code",
   "execution_count": 16,
   "metadata": {},
   "outputs": [
    {
     "name": "stdout",
     "output_type": "stream",
     "text": [
      "############\n",
      "\n",
      "line1\n",
      "line2\n",
      "line3\n",
      "\n",
      "############\n",
      "############\n",
      "line1\n",
      "line2\n",
      "line3\n",
      "############\n",
      "############\n",
      "line1\n",
      "line2\n",
      "line3\n",
      "############\n"
     ]
    }
   ],
   "source": [
    "# 多行显示的区别\n",
    "print(\"############\")\n",
    "print(\"\"\"\n",
    "line1\n",
    "line2\n",
    "line3\n",
    "\"\"\")\n",
    "print(\"############\")# 空出一行了\n",
    "\n",
    "print(\"############\")\n",
    "print(\"\"\"line1\n",
    "line2\n",
    "line3\"\"\")\n",
    "print(\"############\")# 格式不好看\n",
    "\n",
    "print(\"############\")\n",
    "print(\"\"\"\\\n",
    "line1\n",
    "line2\n",
    "line3\\\n",
    "\"\"\")\n",
    "print(\"############\")# 格式好看点"
   ]
  },
  {
   "cell_type": "code",
   "execution_count": 19,
   "metadata": {},
   "outputs": [
    {
     "name": "stdout",
     "output_type": "stream",
     "text": [
      "aaaaaaaabbbbbbbb\n",
      "aaaaaaaabbbbbbbb\n",
      "aaaaaaaabbbbbbbb\n"
     ]
    }
   ],
   "source": [
    "# 太长应对\n",
    "print('aaaaaaaa'\n",
    "     'bbbbbbbb')\n",
    "print('aaaaaaaa'+\n",
    "     'bbbbbbbb')\n",
    "print('aaaaaaaa'\\\n",
    "     'bbbbbbbb')"
   ]
  },
  {
   "cell_type": "markdown",
   "metadata": {},
   "source": [
    "# 2. 字符串的特性"
   ]
  },
  {
   "cell_type": "code",
   "execution_count": 24,
   "metadata": {},
   "outputs": [
    {
     "name": "stdout",
     "output_type": "stream",
     "text": [
      "True\n",
      "11\n",
      "20\n",
      "My name is mike. hi mike.\n",
      "My Name Is Mike. Hi Mike.\n",
      "MY NAME IS MIKE. HI MIKE.\n",
      "My name is Tom. Hi Tom.\n"
     ]
    }
   ],
   "source": [
    "s = 'My name is Mike. Hi Mike.'\n",
    "is_start = s.startswith('My') # return True or False; s.endswith()\n",
    "print(is_start)\n",
    "\n",
    "print(s.find('Mike')) # 从前往后，查找第一次出现单词的位置\n",
    "print(s.rfind('Mike'))# 从后往前查找\n",
    "\n",
    "print(s.capitalize())# 大写行首\n",
    "print(s.title()) #大写词首\n",
    "print(s.upper()) #大写字首； s.lower\n",
    "\n",
    "print(s.replace('Mike','Tom'))"
   ]
  },
  {
   "cell_type": "markdown",
   "metadata": {},
   "source": [
    "# 3. format的用法"
   ]
  },
  {
   "cell_type": "code",
   "execution_count": 32,
   "metadata": {},
   "outputs": [
    {
     "name": "stdout",
     "output_type": "stream",
     "text": [
      "My name is Patrick Star.\n",
      "My name is Star Patrick.\n",
      "My name is Patrick Star.\n",
      "My name is Patrick Star.\n"
     ]
    }
   ],
   "source": [
    "print('My name is {0} {1}.'.format('Patrick', 'Star'))\n",
    "print('My name is {1} {0}.'.format('Patrick', 'Star'))\n",
    "\n",
    "print('My name is {family_name} {given_name}.'.format(family_name='Patrick',\n",
    "                                                      given_name= 'Star'))\n",
    "\n",
    "family_name='Patrick'\n",
    "given_name= 'Star'\n",
    "print(f'My name is {family_name} {given_name}.')# 第三种好看点"
   ]
  }
 ],
 "metadata": {
  "kernelspec": {
   "display_name": "Python 3",
   "language": "python",
   "name": "python3"
  },
  "language_info": {
   "codemirror_mode": {
    "name": "ipython",
    "version": 3
   },
   "file_extension": ".py",
   "mimetype": "text/x-python",
   "name": "python",
   "nbconvert_exporter": "python",
   "pygments_lexer": "ipython3",
   "version": "3.7.7"
  }
 },
 "nbformat": 4,
 "nbformat_minor": 4
}
