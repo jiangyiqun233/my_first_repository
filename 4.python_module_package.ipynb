{
 "cells": [
  {
   "cell_type": "markdown",
   "metadata": {},
   "source": [
    "# package<br>\n",
    "每个package要有__init__.py，在import的时候调用 其实是执行__init__.py的代码。"
   ]
  },
  {
   "cell_type": "code",
   "execution_count": 4,
   "metadata": {},
   "outputs": [
    {
     "name": "stdout",
     "output_type": "stream",
     "text": [
      "wow\n",
      "lol!lol!\n",
      "cry!cry!\n"
     ]
    }
   ],
   "source": [
    "from lesson_package.talk import human\n",
    "from lesson_package.talk import animal \n",
    "\n",
    "print(animal.sing())\n",
    "print(animal.cry())\n",
    "print(human.cry())\n",
    "\n",
    "#from lesson_package.talk import *　# 最好少用，在__init__中添加变量名\n",
    "#print(animal.sing())\n",
    "#print(human.sing())\n"
   ]
  },
  {
   "cell_type": "markdown",
   "metadata": {},
   "source": [
    "可能因为版本迭代产生importerror"
   ]
  },
  {
   "cell_type": "code",
   "execution_count": 2,
   "metadata": {},
   "outputs": [],
   "source": [
    "try:\n",
    "    from lesson_package import utils\n",
    "except ImportError:\n",
    "    from lesson_package.tools import utils"
   ]
  },
  {
   "cell_type": "markdown",
   "metadata": {},
   "source": [
    "可以用pycharm的setup.py来统计信息，还可以打包。"
   ]
  },
  {
   "cell_type": "markdown",
   "metadata": {},
   "source": [
    "builtins是python的内建模块，所谓内建模块就是你在使用时不需要 import ，在python启动后，在没有执行程序员编写的任何代码前，python会加载内建模块中的函数到内存中。 比如经常使用的 abs() , str() , type() 等。 <br>\n",
    "默认已经import builtins"
   ]
  },
  {
   "cell_type": "code",
   "execution_count": 3,
   "metadata": {},
   "outputs": [
    {
     "name": "stdout",
     "output_type": "stream",
     "text": [
      "/Users/huitang/anaconda3/envs/webapp/lib/python3.7/collections/__init__.py\n"
     ]
    }
   ],
   "source": [
    "import collections\n",
    "import os\n",
    "import sys #按字母顺序导入，标准library\n",
    "\n",
    "import termcolor # 第三方library\n",
    "\n",
    "import lesson_package # 自己做的package\n",
    "\n",
    "#import config # 其他py文件\n",
    "\n",
    "print(collections.__file__) #看到package的位置"
   ]
  },
  {
   "cell_type": "code",
   "execution_count": 9,
   "metadata": {},
   "outputs": [
    {
     "name": "stdout",
     "output_type": "stream",
     "text": [
      "__main__\n"
     ]
    }
   ],
   "source": [
    "import config # import的时候，函数里面的__name__变成了文件名\n",
    "print(__name__)# 只有自己直接运行的时候__name__是__main__"
   ]
  },
  {
   "cell_type": "markdown",
   "metadata": {},
   "source": [
    "所以在开头加上 <br>\n",
    "if __name__ == '__main__': <br>\n",
    "&emsp; main() <br>\n",
    "**来确保在这个文件被其他函数误引用的时候，不会乱跑。**"
   ]
  },
  {
   "cell_type": "code",
   "execution_count": null,
   "metadata": {},
   "outputs": [],
   "source": []
  },
  {
   "cell_type": "code",
   "execution_count": null,
   "metadata": {},
   "outputs": [],
   "source": []
  }
 ],
 "metadata": {
  "kernelspec": {
   "display_name": "Python 3",
   "language": "python",
   "name": "python3"
  },
  "language_info": {
   "codemirror_mode": {
    "name": "ipython",
    "version": 3
   },
   "file_extension": ".py",
   "mimetype": "text/x-python",
   "name": "python",
   "nbconvert_exporter": "python",
   "pygments_lexer": "ipython3",
   "version": "3.7.7"
  }
 },
 "nbformat": 4,
 "nbformat_minor": 4
}
