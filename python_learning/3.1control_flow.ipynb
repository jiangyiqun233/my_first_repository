{
 "cells": [
  {
   "cell_type": "markdown",
   "metadata": {},
   "source": [
    "# 控制流"
   ]
  },
  {
   "cell_type": "markdown",
   "metadata": {},
   "source": [
    "- [比较语句](#1.比较语句)\n",
    "- [判断语句](#2.判断语句)\n",
    "- [循环语句](#3.循环语句)"
   ]
  },
  {
   "cell_type": "markdown",
   "metadata": {},
   "source": [
    "## 1.比较语句"
   ]
  },
  {
   "cell_type": "code",
   "execution_count": 3,
   "metadata": {
    "scrolled": true
   },
   "outputs": [
    {
     "data": {
      "text/plain": [
       "True"
      ]
     },
     "execution_count": 3,
     "metadata": {},
     "output_type": "execute_result"
    }
   ],
   "source": [
    "a = 2\n",
    "b = 2\n",
    "\n",
    "a == b\n",
    "a != b\n",
    "a < b\n",
    "a > b\n",
    "a <= b\n",
    "a >= b\n",
    "a > 0 and b > 0\n",
    "a > 0 or b > 0"
   ]
  },
  {
   "cell_type": "markdown",
   "metadata": {},
   "source": [
    "## 2.判断语句"
   ]
  },
  {
   "cell_type": "markdown",
   "metadata": {},
   "source": [
    "if, not, in 等用法"
   ]
  },
  {
   "cell_type": "code",
   "execution_count": 7,
   "metadata": {},
   "outputs": [
    {
     "name": "stdout",
     "output_type": "stream",
     "text": [
      "in\n",
      "not in\n"
     ]
    }
   ],
   "source": [
    "a = [1,2]\n",
    "if 2 in a:\n",
    "    print('in')\n",
    "if 100 not in a:\n",
    "    print('not in')"
   ]
  },
  {
   "cell_type": "markdown",
   "metadata": {},
   "source": [
    "true ,false等用法"
   ]
  },
  {
   "cell_type": "code",
   "execution_count": 14,
   "metadata": {},
   "outputs": [
    {
     "name": "stdout",
     "output_type": "stream",
     "text": [
      "hello\n",
      "nothing\n"
     ]
    }
   ],
   "source": [
    "is_ok = True\n",
    "if is_ok:\n",
    "    print('hello')\n",
    "\n",
    "not_ok = False # 还可以用None, 0, 0.0, '', [], (), {}, set()来表示 False\n",
    "if not not_ok:\n",
    "    print('nothing')"
   ]
  },
  {
   "cell_type": "markdown",
   "metadata": {},
   "source": [
    "## 3.循环语句"
   ]
  },
  {
   "cell_type": "code",
   "execution_count": 6,
   "metadata": {},
   "outputs": [
    {
     "name": "stdout",
     "output_type": "stream",
     "text": [
      "0\n",
      "1\n",
      "2\n",
      "3\n",
      "4\n",
      "done\n",
      "apple\n",
      "banana\n",
      "orange\n",
      "I ate all!\n"
     ]
    }
   ],
   "source": [
    "count = 0\n",
    "while count < 5:\n",
    "    print(count)\n",
    "    count += 1\n",
    "else: #结束的时候输出，但用break终止循环不会到else。\n",
    "    print('done')\n",
    "\n",
    "for fruit in ['apple', 'banana', 'orange']:\n",
    "    print(fruit)\n",
    "else:\n",
    "    print('I ate all!')"
   ]
  },
  {
   "cell_type": "code",
   "execution_count": 17,
   "metadata": {},
   "outputs": [
    {
     "name": "stdout",
     "output_type": "stream",
     "text": [
      "2\n",
      "5\n",
      "8\n",
      "hello\n",
      "hello\n",
      "hello\n",
      "hello\n",
      "hello\n"
     ]
    }
   ],
   "source": [
    "for i in range(2, 10, 3): # 开始，结束，间隔\n",
    "    print(i)\n",
    "\n",
    "for _ in range(5): # _是在循环中没用的计数器\n",
    "    print('hello')"
   ]
  },
  {
   "cell_type": "code",
   "execution_count": 22,
   "metadata": {},
   "outputs": [
    {
     "name": "stdout",
     "output_type": "stream",
     "text": [
      "<class 'enumerate'>\n",
      "0 apple\n",
      "1 banana\n",
      "2 orange\n",
      "Mon apple\n",
      "Tue banana\n",
      "Wed orange\n",
      "<class 'zip'>\n",
      "Mon apple\n",
      "Tue banana\n",
      "Wed orange\n"
     ]
    }
   ],
   "source": [
    "days = ['Mon', 'Tue', 'Wed', 'Thur'] # list打包，长度按最小个数算，超出部分忽视\n",
    "fruits = ['apple', 'banana', 'orange']\n",
    "enum = enumerate(fruits)# 自动生成索引的序列\n",
    "print(type(enum))\n",
    "for i, fruit in enum:\n",
    "    print(i, fruit)\n",
    "\n",
    "#for i in range(len(days)):\n",
    "#    print(days[i], fruits[i]) #一般的做法\n",
    "zip_items = zip(days, fruits)\n",
    "print(type(zip_items))\n",
    "for day, fruit in zip_items:\n",
    "    print(day, fruit)\n"
   ]
  },
  {
   "cell_type": "code",
   "execution_count": null,
   "metadata": {},
   "outputs": [],
   "source": []
  }
 ],
 "metadata": {
  "kernelspec": {
   "display_name": "Python 3",
   "language": "python",
   "name": "python3"
  },
  "language_info": {
   "codemirror_mode": {
    "name": "ipython",
    "version": 3
   },
   "file_extension": ".py",
   "mimetype": "text/x-python",
   "name": "python",
   "nbconvert_exporter": "python",
   "pygments_lexer": "ipython3",
   "version": "3.7.7"
  }
 },
 "nbformat": 4,
 "nbformat_minor": 4
}
