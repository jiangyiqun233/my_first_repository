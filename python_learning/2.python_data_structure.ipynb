{
 "cells": [
  {
   "cell_type": "markdown",
   "metadata": {},
   "source": [
    "# 数据结构"
   ]
  },
  {
   "cell_type": "markdown",
   "metadata": {},
   "source": [
    "- [List的方法](#1.List的方法)\n",
    "- [Tuple的方法](#2.Tuple的方法)\n",
    "- [Dict的方法](#3.Dict的方法)\n",
    "- [Set的方法](#4.Set的方法)\n"
   ]
  },
  {
   "cell_type": "markdown",
   "metadata": {},
   "source": [
    "## 1.List的方法"
   ]
  },
  {
   "cell_type": "code",
   "execution_count": 4,
   "metadata": {},
   "outputs": [
    {
     "name": "stdout",
     "output_type": "stream",
     "text": [
      "M aei ie iMk.\n",
      ".ekiM iH .ekiM si eman yM\n",
      "2\n"
     ]
    }
   ],
   "source": [
    "s = 'My name is Mike. Hi Mike.'\n",
    "print(s[::2])# 间隔2输出\n",
    "print(s[::-1])# 倒叙输出\n",
    "\n",
    "num = [1,2,3,4,5]\n",
    "conb = [s,num]# list套list\n",
    "print(conb[1][1])"
   ]
  },
  {
   "cell_type": "code",
   "execution_count": 8,
   "metadata": {
    "scrolled": true
   },
   "outputs": [
    {
     "name": "stdout",
     "output_type": "stream",
     "text": [
      "[1, 2, 3, 2, 4, 2, 5, 100]\n",
      "[299, 1, 2, 3, 2, 4, 2, 5, 100]\n"
     ]
    }
   ],
   "source": [
    "# list的方法(method)一般是：list.method()这种形式\n",
    "num = [1,2,3,2,4,2,5]\n",
    "num.append(100)# 添加\n",
    "print(num)\n",
    "\n",
    "num.insert(0,299)# 插入\n",
    "print(num)"
   ]
  },
  {
   "cell_type": "markdown",
   "metadata": {},
   "source": [
    "**pop,remove,del 用法区分:**\n",
    "- pop: 获取并删除指定位置的元素。list method。\n",
    "- remove: 删除某个元素。list method。\n",
    "- del: 删除指定位置的元素。python 语句。"
   ]
  },
  {
   "cell_type": "code",
   "execution_count": 3,
   "metadata": {},
   "outputs": [
    {
     "name": "stdout",
     "output_type": "stream",
     "text": [
      "pop\n",
      "2\n",
      "[1, 2, 3, 2, 4, 2, 5]\n",
      "5\n",
      "[1, 2, 3, 2, 4, 2]\n",
      "3\n",
      "[1, 2, 2, 4, 2]\n",
      "del\n",
      "[2, 2, 4, 2]\n",
      "\n",
      "[2, 4, 2]\n",
      "[4, 2]\n"
     ]
    }
   ],
   "source": [
    "num = [1,2,3,2,4,2,5,2]\n",
    "print('pop')\n",
    "print(num.pop())# 栈。从后往前依次取出\n",
    "print(num)\n",
    "print(num.pop())\n",
    "print(num)\n",
    "print(num.pop(2))# 可以跳跃取出\n",
    "print(num)\n",
    "\n",
    "print('del')\n",
    "del num[0] #删除list中某位置元素；del num删除list本身\n",
    "print(num)\n",
    "\n",
    "print()\n",
    "num.remove(2)#删除某个元素\n",
    "print(num)\n",
    "num.remove(2)#删除某个元素\n",
    "print(num)"
   ]
  },
  {
   "cell_type": "code",
   "execution_count": 6,
   "metadata": {},
   "outputs": [
    {
     "name": "stdout",
     "output_type": "stream",
     "text": [
      "[1, 2, 3, 4, 5, 6]\n",
      "[1, 2, 3, 4, 5, 6]\n",
      "[1, 2, 3, 4, 5, 6, 4, 5, 6]\n"
     ]
    }
   ],
   "source": [
    "# list的结合的三种方式\n",
    "a = [1,2,3]\n",
    "b = [4,5,6]\n",
    "x = a + b\n",
    "print(x)\n",
    "a += b\n",
    "print(a)\n",
    "a.extend(b)\n",
    "print(a)"
   ]
  },
  {
   "cell_type": "code",
   "execution_count": 15,
   "metadata": {},
   "outputs": [
    {
     "name": "stdout",
     "output_type": "stream",
     "text": [
      "5\n",
      "3\n"
     ]
    }
   ],
   "source": [
    "# index\n",
    "a = [0,2,8,0,1,2,4,2,1,3,5]\n",
    "print(a.index(2,3))# a.index(值，开始寻找的位置default=0)\n",
    "print(a.count(2))# 数个数"
   ]
  },
  {
   "cell_type": "code",
   "execution_count": 20,
   "metadata": {},
   "outputs": [
    {
     "name": "stdout",
     "output_type": "stream",
     "text": [
      "[0, 0, 1, 1, 2, 2, 2, 3, 4, 5, 8]\n",
      "[8, 5, 4, 3, 2, 2, 2, 1, 1, 0, 0]\n",
      "[8, 5, 4, 3, 2, 2, 2, 1, 1, 0, 0]\n"
     ]
    }
   ],
   "source": [
    "# 按大小排序\n",
    "a = [0,2,8,0,1,2,4,2,1,3,5]\n",
    "a.sort()\n",
    "print(a)\n",
    "a.reverse()\n",
    "print(a)\n",
    "a.sort(reverse=True)\n",
    "print(a)"
   ]
  },
  {
   "cell_type": "code",
   "execution_count": 24,
   "metadata": {},
   "outputs": [
    {
     "name": "stdout",
     "output_type": "stream",
     "text": [
      "['My', 'name', 'is', 'mike.']\n",
      "My,name,is,mike.\n"
     ]
    }
   ],
   "source": [
    "# 分割与结合\n",
    "s = 'My name is mike.'\n",
    "to_split = s.split(' ')# 空格分割\n",
    "print(to_split)\n",
    "x = ','.join(to_split)\n",
    "print(x)# 结合"
   ]
  },
  {
   "cell_type": "code",
   "execution_count": 26,
   "metadata": {},
   "outputs": [
    {
     "name": "stdout",
     "output_type": "stream",
     "text": [
      "[100, 200, 3] 4615713088\n",
      "[100, 200, 3] 4615713088\n",
      "[300, 2, 3] 4614986400\n",
      "[400, 2, 3] 4616485456\n"
     ]
    }
   ],
   "source": [
    "# 复制\n",
    "a = [1,2,3]\n",
    "b = a # 只复制了地址\n",
    "c = a[:]# 复制了值\n",
    "d = a.copy()# 复制了值\n",
    "a[0] = 100\n",
    "b[1] = 200\n",
    "c[0] = 300\n",
    "d[0] = 400\n",
    "print(a,id(a))# id 可以查看地址\n",
    "print(b,id(b))\n",
    "print(c,id(c))\n",
    "print(d,id(d))"
   ]
  },
  {
   "cell_type": "markdown",
   "metadata": {},
   "source": [
    "list[], ditc{}, set{}, generator()都可以内部表示。"
   ]
  },
  {
   "cell_type": "code",
   "execution_count": 12,
   "metadata": {},
   "outputs": [
    {
     "name": "stdout",
     "output_type": "stream",
     "text": [
      "[2, 4]\n",
      "[5, 6, 7, 8, 9, 10, 12, 14, 16, 18, 15, 18, 21, 24, 27, 20, 24, 28, 32, 36, 25, 30, 35, 40, 45]\n",
      "{1: 5, 2: 6, 3: 7, 4: 8, 5: 9}\n",
      "{0, 2, 4}\n",
      "<generator object <genexpr> at 0x107c1a0d0>\n",
      "0\n",
      "2\n",
      "4\n",
      "(0, 1, 2)\n"
     ]
    }
   ],
   "source": [
    "t = (1, 2, 3, 4, 5)\n",
    "t2 = (5, 6, 7, 8, 9)\n",
    "\n",
    "# list\n",
    "r = [i for i in t if i % 2 == 0]\n",
    "r2 = [i * j for i in t for j in t2]\n",
    "print(r)\n",
    "print(r2)\n",
    "\n",
    "# dict\n",
    "d = {x: y for x, y in zip(t, t2)}\n",
    "print(d)\n",
    "\n",
    "# set\n",
    "s = {i for i in range(5) if i % 2 == 0}\n",
    "print(s)\n",
    "\n",
    "# generator\n",
    "g = (i for i in range(5) if i % 2 == 0)\n",
    "print(g)\n",
    "for x in g:\n",
    "    print(x)\n",
    "\n",
    "# 变成 tuple\n",
    "g = tuple(i for i in range(3))\n",
    "print(g)\n"
   ]
  },
  {
   "cell_type": "markdown",
   "metadata": {},
   "source": [
    "## 2.Tuple的方法\n",
    "不能修改"
   ]
  },
  {
   "cell_type": "code",
   "execution_count": 51,
   "metadata": {},
   "outputs": [],
   "source": [
    "# tuple不能修改\n",
    "t = (1, 2, 3, 4, 1, 2)\n",
    "#t[0] = 100\n",
    "#t.append(0)\n",
    "#t.insert(1,1) 会报错"
   ]
  },
  {
   "cell_type": "code",
   "execution_count": 52,
   "metadata": {},
   "outputs": [
    {
     "name": "stdout",
     "output_type": "stream",
     "text": [
      "([100, 2, 3], [4, 5, 6])\n"
     ]
    }
   ],
   "source": [
    "t = ([1,2,3],[4,5,6])\n",
    "t[0][0] = 100\n",
    "print(t) # tuple套娃list可以修改"
   ]
  },
  {
   "cell_type": "code",
   "execution_count": 53,
   "metadata": {},
   "outputs": [
    {
     "name": "stdout",
     "output_type": "stream",
     "text": [
      "<class 'tuple'>\n",
      "(1,)\n",
      "<class 'int'>\n",
      "1\n",
      "<class 'tuple'>\n",
      "()\n"
     ]
    }
   ],
   "source": [
    "t = 1, # 单元素也可以形成tuple\n",
    "print(type(t))\n",
    "print(t)\n",
    "t = 1 \n",
    "print(type(t))\n",
    "print(t)\n",
    "\n",
    "t = () # 空元素也可以形成tuple\n",
    "print(type(t))\n",
    "print(t)"
   ]
  },
  {
   "cell_type": "code",
   "execution_count": 54,
   "metadata": {},
   "outputs": [
    {
     "name": "stdout",
     "output_type": "stream",
     "text": [
      "10 20\n"
     ]
    }
   ],
   "source": [
    "x, y = 10, 20 # 这其实也是一种简写的tuple 等价于 x, y = (10, 20)\n",
    "print(x, y)"
   ]
  },
  {
   "cell_type": "markdown",
   "metadata": {},
   "source": [
    "## 3.Dict的方法"
   ]
  },
  {
   "cell_type": "code",
   "execution_count": 10,
   "metadata": {},
   "outputs": [
    {
     "name": "stdout",
     "output_type": "stream",
     "text": [
      "{'x': 10, 'y': 20}\n",
      "{'x': 10, 'y': 20, 'z': 30, 1: 40}\n",
      "{'x': 99, 'y': 20, 'z': 30, 1: 40}\n",
      "{}\n",
      "{'a': 10, 'b': 20}\n",
      "dict_keys(['a', 'b'])\n",
      "dict_values([10, 20])\n",
      "dict_items([('a', 10), ('b', 20)])\n",
      "a : 10\n",
      "b : 20\n",
      "10\n",
      "10\n",
      "10\n",
      "{'b': 20}\n",
      "{}\n"
     ]
    }
   ],
   "source": [
    "d = {'x': 10, 'y': 20}\n",
    "print(d)\n",
    "# 添加元素的两种方法\n",
    "d['z'] = 30 \n",
    "d[1] = 40\n",
    "print(d)\n",
    "# 更改值\n",
    "d.update({'x':99})\n",
    "print(d)\n",
    "# 清空值\n",
    "d.clear()\n",
    "print(d)\n",
    "\n",
    "# 建立dict的另一种方式\n",
    "dd = dict(a=10, b=20)\n",
    "print(dd)\n",
    "# 分别提取各类值\n",
    "print(dd.keys())\n",
    "print(dd.values())\n",
    "print(dd.items())\n",
    "for k, v in dd.items():\n",
    "    print(k, ':', v)\n",
    "# 提取值\n",
    "print(dd['a'])\n",
    "print(dd.get('a'))\n",
    "print(dd.pop('a'))\n",
    "print(dd)\n",
    "# 删除值\n",
    "del dd['b']\n",
    "print(dd)\n"
   ]
  },
  {
   "cell_type": "code",
   "execution_count": 5,
   "metadata": {},
   "outputs": [],
   "source": [
    "#查找时间比list更短\n",
    "a = [['a', 100], ['b', 200]]\n",
    "b = {'a': 100, 'b': 200}\n"
   ]
  },
  {
   "cell_type": "markdown",
   "metadata": {},
   "source": [
    "创造新的字典"
   ]
  },
  {
   "cell_type": "code",
   "execution_count": 8,
   "metadata": {},
   "outputs": [
    {
     "name": "stdout",
     "output_type": "stream",
     "text": [
      "{'Google': 1, 'Amazon': 1, 'Facebook': 1}\n",
      "('Facebook', 1)\n",
      "{'Google': 1, 'Amazon': 1}\n"
     ]
    }
   ],
   "source": [
    "seq = ('Google', 'Amazon', 'Facebook')\n",
    "dict_example = dict.fromkeys(seq, 1)\n",
    "print(dict_example)\n",
    "\n",
    "# 删除最后一个\n",
    "print(dict_example.popitem())\n",
    "print(dict_example)"
   ]
  },
  {
   "cell_type": "markdown",
   "metadata": {},
   "source": [
    "## 4.Set的方法\n",
    "集合，按照集合的方式去思考。无法用index去查找，比如s[0]。"
   ]
  },
  {
   "cell_type": "code",
   "execution_count": 90,
   "metadata": {},
   "outputs": [
    {
     "name": "stdout",
     "output_type": "stream",
     "text": [
      "{1, 2, 3, 4, 5}\n",
      "{2, 3, 4, 5}\n",
      "{1}\n",
      "{1, 2, 3, 4, 5, 6, 7}\n",
      "{2, 3, 4, 5, 6, 7}\n"
     ]
    }
   ],
   "source": [
    "a = {1, 2, 2, 3, 4, 5, 5}\n",
    "print(a)#\n",
    "b = {1, 6, 7}\n",
    "\n",
    "print(a-b)# 剔除相同元素\n",
    "print(a&b)# 交集\n",
    "print(a|b)# 并集\n",
    "print(a^b)# 差集"
   ]
  },
  {
   "cell_type": "code",
   "execution_count": 93,
   "metadata": {},
   "outputs": [
    {
     "name": "stdout",
     "output_type": "stream",
     "text": [
      "{1, 2, 3, 4, 5, 10}\n",
      "{1, 2, 3, 4, 10}\n"
     ]
    }
   ],
   "source": [
    "a = {1, 2, 3, 4, 5}\n",
    "a.add(10)\n",
    "print(a)\n",
    "a.remove(5)\n",
    "print(a)"
   ]
  },
  {
   "cell_type": "code",
   "execution_count": 96,
   "metadata": {},
   "outputs": [
    {
     "name": "stdout",
     "output_type": "stream",
     "text": [
      "<class 'dict'>\n"
     ]
    }
   ],
   "source": [
    "a = {} #空的不是set是dict\n",
    "print(type(a))"
   ]
  },
  {
   "cell_type": "code",
   "execution_count": 97,
   "metadata": {},
   "outputs": [
    {
     "name": "stdout",
     "output_type": "stream",
     "text": [
      "{'banana', 'apple'}\n"
     ]
    }
   ],
   "source": [
    "# 把list转化为set然后判断集合的性质\n",
    "f = ['apple', 'banana', 'apple', 'banana']\n",
    "kind = set(f)\n",
    "print(kind)"
   ]
  },
  {
   "cell_type": "code",
   "execution_count": null,
   "metadata": {},
   "outputs": [],
   "source": []
  }
 ],
 "metadata": {
  "kernelspec": {
   "display_name": "Python 3",
   "language": "python",
   "name": "python3"
  },
  "language_info": {
   "codemirror_mode": {
    "name": "ipython",
    "version": 3
   },
   "file_extension": ".py",
   "mimetype": "text/x-python",
   "name": "python",
   "nbconvert_exporter": "python",
   "pygments_lexer": "ipython3",
   "version": "3.7.7"
  }
 },
 "nbformat": 4,
 "nbformat_minor": 4
}
