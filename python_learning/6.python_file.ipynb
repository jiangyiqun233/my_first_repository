{
 "cells": [
  {
   "cell_type": "markdown",
   "metadata": {},
   "source": [
    "# file\n",
    "用with可以自动调用close（）<br>\n",
    "## 文件保存："
   ]
  },
  {
   "cell_type": "code",
   "execution_count": 2,
   "metadata": {},
   "outputs": [],
   "source": [
    "\n",
    "# f = open('test.txt', 'w')\n",
    "# f.write('Test\\n')\n",
    "# print('my', 'name', 'is', 'Mike', sep=' ', end='!', file=f)\n",
    "# f.close()\n",
    "\n",
    "with open('text.txt', 'w') as f:\n",
    "    f.write('Test\\n') # 两种写法\n",
    "    print('my', 'name', 'is', 'Mike', sep=' ', end='!', file=f)# 两种写法\n",
    "\n"
   ]
  },
  {
   "cell_type": "markdown",
   "metadata": {},
   "source": [
    "## 文件读取："
   ]
  },
  {
   "cell_type": "code",
   "execution_count": 22,
   "metadata": {},
   "outputs": [
    {
     "name": "stdout",
     "output_type": "stream",
     "text": [
      "AAA\n",
      "BBB\n",
      "CCC\n",
      "DDD\n",
      "AA\n",
      "A\n",
      "\n",
      "BB\n",
      "B\n",
      "\n",
      "CC\n",
      "C\n",
      "\n",
      "DD\n",
      "D\n",
      "\n",
      "\n",
      "0\n",
      "A\n",
      "AA\n",
      "\n",
      "5\n",
      "BB\n",
      "CCC\n",
      "DDD\n"
     ]
    }
   ],
   "source": [
    "s = \"\"\"\\\n",
    "AAA\n",
    "BBB\n",
    "CCC\n",
    "DDD\n",
    "\"\"\"\n",
    "with open('test.txt', 'w') as f:\n",
    "    f.write(s)\n",
    "\n",
    "with open('test.txt', 'r') as f:\n",
    "    while True:\n",
    "        line = f.readline()\n",
    "        print(line, end='')\n",
    "        if not line:\n",
    "            break\n",
    "\n",
    "with open('test.txt', 'r') as f:\n",
    "    while True:\n",
    "        chunk = 2\n",
    "        line = f.read(chunk)\n",
    "        print(line)\n",
    "        if not line:\n",
    "            break\n",
    "\n",
    "with open('test.txt', 'r') as f:\n",
    "        print(f.tell())# 显示当前位置\n",
    "        print(f.read(1)) \n",
    "        print(f.read(3)) # 已经读过了就不会读了\n",
    "        f.seek(5) # 这个是绝对路径，移动到第五个字符之前\n",
    "        print(f.tell())\n",
    "        print(f.read(10))\n"
   ]
  },
  {
   "cell_type": "markdown",
   "metadata": {},
   "source": [
    "### w+与r+区别：<br>\n",
    "r+：可读可写，若文件不存在，报错；w+: 可读可写，若文件不存在，创建"
   ]
  },
  {
   "cell_type": "code",
   "execution_count": 23,
   "metadata": {},
   "outputs": [
    {
     "name": "stdout",
     "output_type": "stream",
     "text": [
      "AAA\n",
      "BBB\n",
      "CCC\n",
      "DDD\n",
      "\n"
     ]
    }
   ],
   "source": [
    "s = \"\"\"\\\n",
    "AAA\n",
    "BBB\n",
    "CCC\n",
    "DDD\n",
    "\"\"\"\n",
    "\n",
    "\n",
    "with open('test.txt', 'w+') as f:\n",
    "    f.write(s) # 光标已经移动到末尾了\n",
    "    f.seek(0) # 不归0读不出来。\n",
    "    print(f.read())"
   ]
  },
  {
   "cell_type": "markdown",
   "metadata": {},
   "source": [
    "## 读取模版"
   ]
  },
  {
   "cell_type": "code",
   "execution_count": 25,
   "metadata": {},
   "outputs": [
    {
     "name": "stdout",
     "output_type": "stream",
     "text": [
      "Hi Mike.\n",
      "\n",
      "How are you?\n",
      "\n",
      "Have a good day.\n"
     ]
    }
   ],
   "source": [
    "import string\n",
    "\n",
    "with open('email_template.txt') as f:\n",
    "    t = string.Template(f.read())\n",
    "    \n",
    "contents = t.substitute(name='Mike', contents='How are you?')\n",
    "print(contents)"
   ]
  },
  {
   "cell_type": "markdown",
   "metadata": {},
   "source": [
    "## 读取csv"
   ]
  },
  {
   "cell_type": "code",
   "execution_count": 27,
   "metadata": {},
   "outputs": [
    {
     "name": "stdout",
     "output_type": "stream",
     "text": [
      "A 1\n",
      "B 2\n"
     ]
    }
   ],
   "source": [
    "import csv\n",
    "\n",
    "with open('test.csv', 'w') as csv_file:\n",
    "    fieldnames = ['Name', 'Count']\n",
    "    writer = csv.DictWriter(csv_file, fieldnames=fieldnames)\n",
    "    writer.writeheader()\n",
    "    writer.writerow({'Name': 'A', 'Count': 1})\n",
    "    writer.writerow({'Name': 'B', 'Count': 2})\n",
    "\n",
    "with open('test.csv', 'r') as csv_file:\n",
    "    reader = csv.DictReader(csv_file)\n",
    "    for row in reader:\n",
    "        print(row['Name'], row['Count'])\n"
   ]
  },
  {
   "cell_type": "markdown",
   "metadata": {},
   "source": [
    "## file的操作<br>\n",
    "pathlib中的touch创立文件，glob导出文件列表，shutil复制和移除dir。"
   ]
  },
  {
   "cell_type": "code",
   "execution_count": 37,
   "metadata": {},
   "outputs": [
    {
     "name": "stdout",
     "output_type": "stream",
     "text": [
      "True\n",
      "True\n",
      "False\n",
      "['test_dir/empty.txt']\n",
      "/Users/huitang/Desktop/python_learning\n"
     ]
    }
   ],
   "source": [
    "import os\n",
    "import pathlib\n",
    "import glob\n",
    "import shutil\n",
    "\n",
    "print(os.path.exists('test.txt')) # 判断存在\n",
    "print(os.path.isfile('test.txt')) # 这两个没用吧\n",
    "print(os.path.isdir('test.txt')) # 都输入后缀了，看的出来吧\n",
    "\n",
    "# os 还有os.rename, os.symlink, os.mkdir, os.rmdir（删除）等功能\n",
    "\n",
    "pathlib.Path('empty.txt').touch() # 还可以这样新建文件\n",
    "os.mkdir('test_dir')\n",
    "shutil.copy('empty.txt','test_dir/empty.txt')\n",
    "print(glob.glob('test_dir/*')) # 得到文件夹下文件名\n",
    "os.remove('empty.txt')\n",
    "shutil.rmtree('test_dir')\n",
    "\n",
    "print(os.getcwd())"
   ]
  },
  {
   "cell_type": "markdown",
   "metadata": {},
   "source": [
    "## 文件打包和展开\n",
    "tar类型:termial用tar zxvf tst.tar.gz -C/tmp 来展开"
   ]
  },
  {
   "cell_type": "code",
   "execution_count": 56,
   "metadata": {},
   "outputs": [
    {
     "name": "stdout",
     "output_type": "stream",
     "text": [
      "b''\n"
     ]
    }
   ],
   "source": [
    "import os\n",
    "import pathlib\n",
    "import shutil\n",
    "\n",
    "os.mkdir('test_dir')\n",
    "pathlib.Path('test_dir/empty.txt').touch()\n",
    "\n",
    "import tarfile\n",
    "\n",
    "with tarfile.open('test.tar.gz', 'w:gz') as tr:\n",
    "    tr.add('test_dir')\n",
    "\n",
    "with tarfile.open('test.tar.gz', 'r:gz') as tr:\n",
    "    tr.extractall(path= 'test_tar')\n",
    "    with tr.extractfile('test_dir/empty.txt') as f:\n",
    "        print(f.read()) # 啥也没写\n",
    "        \n",
    "shutil.rmtree('test_dir') # 清空\n",
    "shutil.rmtree('test_tar')\n",
    "os.remove('test.tar.gz')"
   ]
  },
  {
   "cell_type": "markdown",
   "metadata": {},
   "source": [
    "zip类型：termial用 unzip test.zip -d zzz开展"
   ]
  },
  {
   "cell_type": "code",
   "execution_count": 61,
   "metadata": {},
   "outputs": [],
   "source": [
    "import glob\n",
    "import zipfile\n",
    "import os\n",
    "import pathlib\n",
    "import shutil\n",
    "\n",
    "os.mkdir('test_dir')\n",
    "pathlib.Path('test_dir/empty.txt').touch()\n",
    "\n",
    "with zipfile.ZipFile('test.zip', 'w') as z:\n",
    "    #z.write('test_dir')\n",
    "    #z.write('test_dir/test.txt')\n",
    "    for f in glob.glob('test_dir/**', recursive=True): # 读取list\n",
    "        z.write(f) # 全都写入\n",
    "\n",
    "with zipfile.ZipFile('test.zip', 'r') as z:\n",
    "    z.extractall('zzz')\n",
    "    #with z.open('test_dir/test.txt') as f:\n",
    "    #    print(f.read())\n",
    "\n",
    "shutil.rmtree('zzz') # 清空\n",
    "shutil.rmtree('test_dir')\n",
    "os.remove('test.zip')"
   ]
  },
  {
   "cell_type": "markdown",
   "metadata": {},
   "source": [
    "# 临时文件tempfile\n",
    "自动删除"
   ]
  },
  {
   "cell_type": "code",
   "execution_count": 69,
   "metadata": {},
   "outputs": [
    {
     "name": "stdout",
     "output_type": "stream",
     "text": [
      "hello\n",
      "/var/folders/q8/ntcjkbm14nnf31tt2dn9knmc0000gn/T/tmpx4b51f6d\n",
      "test\n",
      "\n",
      "/var/folders/q8/ntcjkbm14nnf31tt2dn9knmc0000gn/T/tmpj98wyl5q\n",
      "/var/folders/q8/ntcjkbm14nnf31tt2dn9knmc0000gn/T/tmp4ikprpwx\n"
     ]
    }
   ],
   "source": [
    "import tempfile\n",
    "\n",
    "with tempfile.TemporaryFile(mode='w+') as t: # 关闭后立即销毁\n",
    "    t.write('hello')\n",
    "    t.seek(0)\n",
    "    print(t.read())\n",
    "    \n",
    "with tempfile.NamedTemporaryFile(delete=False) as t: # 多个名字\n",
    "    print(t.name)\n",
    "    with open(t.name, 'w+') as f:\n",
    "        f.write('test\\n')\n",
    "        f.seek(0)\n",
    "        print(f.read())\n",
    "        \n",
    "with tempfile.TemporaryDirectory() as td: # 建立目录\n",
    "    print(td)\n",
    "    \n",
    "temp_dir = tempfile.mkdtemp()# 创建一个临时文件。不自行删除\n",
    "print(temp_dir)"
   ]
  },
  {
   "cell_type": "markdown",
   "metadata": {},
   "source": [
    "## subprocess子进程管理\n",
    "用来创建和管理子进程（不是线程），并能够与创建的子进程的stdin，stdout，stderr连接通信，获取子进程执行结束后的返回码，在执行超时或执行错误时得到异常。？？？"
   ]
  },
  {
   "cell_type": "code",
   "execution_count": 77,
   "metadata": {},
   "outputs": [
    {
     "name": "stdout",
     "output_type": "stream",
     "text": [
      "b'drwxr-xr-x   6 huitang  staff     192 May 11 13:35 .pytest_cache\\n-rw-r--r--   1 huitang  staff    2572 May 11 13:38 lesson_test.ipynb\\n-rw-r--r--   1 huitang  staff      22 May 13 10:35 test.csv\\n-rw-r--r--   1 huitang  staff      16 May 13 10:28 test.txt\\n'\n"
     ]
    }
   ],
   "source": [
    "import os\n",
    "import subprocess\n",
    "\n",
    "# os.system('ls')\n",
    "subprocess.run(['ls', '-al'])\n",
    "\n",
    "p1 = subprocess.Popen(['ls', '-al'], stdout=subprocess.PIPE)\n",
    "p2 = subprocess.Popen(\n",
    "    ['grep', 'test'], stdin=p1.stdout, stdout=subprocess.PIPE)\n",
    "p1.stdout.close()\n",
    "output = p2.communicate()[0]\n",
    "print(output)"
   ]
  },
  {
   "cell_type": "markdown",
   "metadata": {},
   "source": [
    "## date表示"
   ]
  },
  {
   "cell_type": "code",
   "execution_count": 85,
   "metadata": {},
   "outputs": [
    {
     "name": "stdout",
     "output_type": "stream",
     "text": [
      "2020-05-13 11:33:30.003738\n",
      "2020-05-13T11:33:30.003738\n",
      "13/05/20-1130003738\n",
      "2020-05-13\n",
      "2020-05-13\n",
      "13/05/20\n",
      "01:10:05.000100\n",
      "01:10:05.000100\n",
      "01_10_05_000100\n",
      "2020-05-13 11:33:30.003738\n",
      "2020-05-13 11:33:30.003737\n"
     ]
    }
   ],
   "source": [
    "import datetime\n",
    "\n",
    "now = datetime.datetime.now()\n",
    "print(now)\n",
    "print(now.isoformat())# 标准表示\n",
    "print(now.strftime('%d/%m/%y-%H%S%f'))\n",
    "\n",
    "today = datetime.date.today()\n",
    "print(today)\n",
    "print(today.isoformat())\n",
    "print(today.strftime('%d/%m/%y'))\n",
    "\n",
    "t = datetime.time(hour=1, minute=10, second=5, microsecond=100) # 间隔\n",
    "print(t)\n",
    "print(t.isoformat())\n",
    "print(t.strftime('%H_%M_%S_%f'))\n",
    "\n",
    "print(now)\n",
    "d = datetime.timedelta(weeks=1)\n",
    "d = datetime.timedelta(days=365)\n",
    "d = datetime.timedelta(hours=1)\n",
    "d = datetime.timedelta(minutes=1)\n",
    "d = datetime.timedelta(seconds=1)\n",
    "d = datetime.timedelta(microseconds=1)\n",
    "print(now-d) # 计算时间间隔"
   ]
  },
  {
   "cell_type": "code",
   "execution_count": 86,
   "metadata": {},
   "outputs": [
    {
     "name": "stdout",
     "output_type": "stream",
     "text": [
      "###\n",
      "###\n",
      "1589337258.509085\n"
     ]
    }
   ],
   "source": [
    "import time\n",
    "\n",
    "print('###')\n",
    "time.sleep(2) # 用来延时\n",
    "print('###')\n",
    "print(time.time())"
   ]
  },
  {
   "cell_type": "code",
   "execution_count": 89,
   "metadata": {},
   "outputs": [],
   "source": [
    "import os\n",
    "import shutil\n",
    "\n",
    "file_name = 'test.txt'\n",
    "if os.path.exists(file_name):\n",
    "    shutil.copy(file_name,\"{}.{}\".format(\n",
    "    file_name, now.strftime('%Y_%m_%d_%H_%H_%S'))) # 添加了创立时间\n",
    "\n",
    "with open(file_name, 'w') as f:\n",
    "    f.write('test')"
   ]
  },
  {
   "cell_type": "code",
   "execution_count": 2,
   "metadata": {},
   "outputs": [
    {
     "name": "stdout",
     "output_type": "stream",
     "text": [
      "{'No': 1, 'Name': 'Alex', 'Country': 'India'}\n",
      "{'No': 2, 'Name': 'Ben', 'Country': 'USA'}\n",
      "{'No': 3, 'Name': 'Shri Ram', 'Country': 'India'}\n",
      "{'No': 4, 'Name': 'Smith', 'Country': 'USA'}\n",
      "{'No': 5, 'Name': 'Yuva Raj', 'Country': 'India'}\n"
     ]
    }
   ],
   "source": [
    "import csv\n",
    "csv_columns = ['No','Name','Country']\n",
    "dict_data = [\n",
    "{'No': 1, 'Name': 'Alex', 'Country': 'India'},\n",
    "{'No': 2, 'Name': 'Ben', 'Country': 'USA'},\n",
    "{'No': 3, 'Name': 'Shri Ram', 'Country': 'India'},\n",
    "{'No': 4, 'Name': 'Smith', 'Country': 'USA'},\n",
    "{'No': 5, 'Name': 'Yuva Raj', 'Country': 'India'},\n",
    "]\n",
    "csv_file = \"Names.csv\"\n",
    "try:\n",
    "    with open(csv_file, 'w') as csvfile:\n",
    "        writer = csv.DictWriter(csvfile, fieldnames=csv_columns)\n",
    "        writer.writeheader()\n",
    "        for data in dict_data:\n",
    "            print(data)\n",
    "            writer.writerow(data)\n",
    "except IOError:\n",
    "    print(\"I/O error\")"
   ]
  },
  {
   "cell_type": "code",
   "execution_count": null,
   "metadata": {},
   "outputs": [],
   "source": []
  }
 ],
 "metadata": {
  "kernelspec": {
   "display_name": "Python 3",
   "language": "python",
   "name": "python3"
  },
  "language_info": {
   "codemirror_mode": {
    "name": "ipython",
    "version": 3
   },
   "file_extension": ".py",
   "mimetype": "text/x-python",
   "name": "python",
   "nbconvert_exporter": "python",
   "pygments_lexer": "ipython3",
   "version": "3.7.7"
  }
 },
 "nbformat": 4,
 "nbformat_minor": 4
}
