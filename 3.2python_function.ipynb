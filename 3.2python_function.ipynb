{
 "cells": [
  {
   "cell_type": "markdown",
   "metadata": {},
   "source": [
    "# Python 函数"
   ]
  },
  {
   "cell_type": "markdown",
   "metadata": {},
   "source": [
    "提示输入值和返回值的类型"
   ]
  },
  {
   "cell_type": "code",
   "execution_count": 1,
   "metadata": {},
   "outputs": [
    {
     "name": "stdout",
     "output_type": "stream",
     "text": [
      "30\n"
     ]
    }
   ],
   "source": [
    "def add_num(a: int, b: int) -> int: #提示输入值和返回值的类型，可以删除\n",
    "    return a + b\n",
    "r = add_num(10, 20)\n",
    "print(r)"
   ]
  },
  {
   "cell_type": "markdown",
   "metadata": {},
   "source": [
    "**活久见** 函数的参数竟然不会清空"
   ]
  },
  {
   "cell_type": "code",
   "execution_count": 13,
   "metadata": {},
   "outputs": [
    {
     "name": "stdout",
     "output_type": "stream",
     "text": [
      "[1, 2, 3, 100]\n",
      "[1, 2, 3, 100]\n",
      "[1, 2, 3, 100, 200]\n"
     ]
    }
   ],
   "source": [
    "def test_func(x, l=[]):\n",
    "    l.append(x)\n",
    "    return l\n",
    "\n",
    "y = [1, 2, 3]\n",
    "r = test_func(100, y)\n",
    "print(r)\n",
    "print(y) # 竟然变了，直接在后面加了。说明r与y直接传输的是地址。\n",
    "\n",
    "y = [1, 2, 3]# 每次用都要重新赋值一下\n",
    "r = test_func(200, y)\n",
    "print(r)"
   ]
  },
  {
   "cell_type": "code",
   "execution_count": 7,
   "metadata": {},
   "outputs": [
    {
     "name": "stdout",
     "output_type": "stream",
     "text": [
      "[100]\n",
      "[100, 100]\n"
     ]
    }
   ],
   "source": [
    "def test_func(x, l=[]):\n",
    "    l.append(x)\n",
    "    return l\n",
    "\n",
    "r = test_func(100)\n",
    "print(r)\n",
    "\n",
    "r = test_func(100)# 竟然在后面直接增加\n",
    "print(r)"
   ]
  },
  {
   "cell_type": "code",
   "execution_count": 14,
   "metadata": {},
   "outputs": [
    {
     "name": "stdout",
     "output_type": "stream",
     "text": [
      "[100]\n",
      "[100]\n"
     ]
    }
   ],
   "source": [
    "#解法》重新赋值\n",
    "def test_func(x, l=None):\n",
    "    if l is None: #重新赋值\n",
    "        l = []\n",
    "    l.append(x)\n",
    "    return l\n",
    "\n",
    "r = test_func(100)\n",
    "print(r)\n",
    "\n",
    "r = test_func(100)\n",
    "print(r)"
   ]
  },
  {
   "cell_type": "markdown",
   "metadata": {},
   "source": [
    "tuple化和字典化，可以同时使用。"
   ]
  },
  {
   "cell_type": "code",
   "execution_count": 19,
   "metadata": {},
   "outputs": [
    {
     "name": "stdout",
     "output_type": "stream",
     "text": [
      "Hi!\n",
      "Mike\n",
      "Nance\n",
      "Hi!\n",
      "Nacy\n"
     ]
    }
   ],
   "source": [
    "# tuple化\n",
    "def say_something(*args):\n",
    "    for arg in args:\n",
    "        print(arg)\n",
    "\n",
    "say_something('Hi!', 'Mike', 'Nance')\n",
    "t = ('Hi!', 'Nacy')\n",
    "say_something(*t)"
   ]
  },
  {
   "cell_type": "code",
   "execution_count": 20,
   "metadata": {
    "scrolled": true
   },
   "outputs": [
    {
     "name": "stdout",
     "output_type": "stream",
     "text": [
      "entree beef\n",
      "drink ice coffee\n",
      "dessert ice\n"
     ]
    }
   ],
   "source": [
    "# 字典化\n",
    "def menu(**kwargs):\n",
    "    for k, v in kwargs.items():\n",
    "        print(k, v)\n",
    "\n",
    "d = {\n",
    "    'entree': 'beef',\n",
    "    'drink': 'ice coffee',\n",
    "    'dessert': 'ice'\n",
    "}\n",
    "menu(**d)"
   ]
  },
  {
   "cell_type": "markdown",
   "metadata": {},
   "source": [
    "函数注释.哇标准函数格式。"
   ]
  },
  {
   "cell_type": "code",
   "execution_count": 22,
   "metadata": {},
   "outputs": [
    {
     "name": "stdout",
     "output_type": "stream",
     "text": [
      "Example function with types documented in th docstring.\n",
      "    \n",
      "    Args:\n",
      "        param1 (int): The first parameter.\n",
      "        param2 (int): The second parameter.\n",
      "    \n",
      "    Returns:\n",
      "        bool: The return value. True for success, False otherwise.\n",
      "    \n",
      "    \n",
      "Help on function example_func in module __main__:\n",
      "\n",
      "example_func(param1, param2)\n",
      "    Example function with types documented in th docstring.\n",
      "    \n",
      "    Args:\n",
      "        param1 (int): The first parameter.\n",
      "        param2 (int): The second parameter.\n",
      "    \n",
      "    Returns:\n",
      "        bool: The return value. True for success, False otherwise.\n",
      "\n"
     ]
    }
   ],
   "source": [
    "def example_func(param1, param2):\n",
    "    \"\"\"Example function with types documented in th docstring.\n",
    "    \n",
    "    Args:\n",
    "        param1 (int): The first parameter.\n",
    "        param2 (int): The second parameter.\n",
    "    \n",
    "    Returns:\n",
    "        bool: The return value. True for success, False otherwise.\n",
    "    \n",
    "    \"\"\"\n",
    "    print(param1)\n",
    "    print(param2)\n",
    "    return True\n",
    "\n",
    "print(example_func.__doc__)\n",
    "\n",
    "help(example_func)# 两种方式都可以看到说明。"
   ]
  },
  {
   "cell_type": "markdown",
   "metadata": {},
   "source": [
    "函数套函数 <br>\n",
    "特点：闭包，封装；DRY原则:Don't repear yourself，不要重复代码。 <br>\n",
    "优点：函数结束后，可以保持外部的运行环境；闭包可以导入局部变量得到不同结果。\n"
   ]
  },
  {
   "cell_type": "code",
   "execution_count": 30,
   "metadata": {},
   "outputs": [
    {
     "name": "stdout",
     "output_type": "stream",
     "text": [
      "314.0\n",
      "314.159\n"
     ]
    }
   ],
   "source": [
    "def circle_area_func(pi):\n",
    "    def circle_area(radius):\n",
    "        return pi * radius * radius\n",
    "\n",
    "    return circle_area\n",
    "\n",
    "ca1 = circle_area_func(3.14)\n",
    "ca2 = circle_area_func(3.14159)# 就是这里可以闭包\n",
    "\n",
    "print(ca1(10))# 这里竟然是内装函数的参数\n",
    "print(ca2(10))# 根据导入变量得到不同结果"
   ]
  },
  {
   "cell_type": "markdown",
   "metadata": {},
   "source": [
    "python中没有域的概念。返回函数不要引入循环变量。<br>\n",
    "loop在python中是没有域的概念的，flist在像列表中添加func的时候，并没有保存i的值，而是当执行f(2)的时候才去取，这时候循环已经结束，i的值是2，所以结果都是4。<br>\n",
    "参考：https://zhuanlan.zhihu.com/p/22229197 "
   ]
  },
  {
   "cell_type": "code",
   "execution_count": 16,
   "metadata": {},
   "outputs": [
    {
     "name": "stdout",
     "output_type": "stream",
     "text": [
      "4\n",
      "4\n",
      "4\n"
     ]
    }
   ],
   "source": [
    "flist = [] # 这是个函数list\n",
    "for i in range(3):\n",
    "    def func(x): \n",
    "        return x * i\n",
    "    flist.append(func)\n",
    "\n",
    "for f in flist:\n",
    "    #print(f) # 确实函数是不同的函数。\n",
    "    print(f(2)) # 只把最后的x*i保存了三次。调取的时候loop已经结束了。"
   ]
  },
  {
   "cell_type": "markdown",
   "metadata": {},
   "source": [
    "如果非要引入就套上一个函数。形成闭包。"
   ]
  },
  {
   "cell_type": "code",
   "execution_count": 20,
   "metadata": {},
   "outputs": [
    {
     "name": "stdout",
     "output_type": "stream",
     "text": [
      "0\n",
      "2\n",
      "4\n"
     ]
    }
   ],
   "source": [
    "flist = []\n",
    "\n",
    "for i in range(3):\n",
    "    def makefunc(i):\n",
    "        def func(x):\n",
    "            #print(x, i)\n",
    "            return x * i\n",
    "        return func\n",
    "    flist.append(makefunc(i))\n",
    "\n",
    "for f in flist:\n",
    "    print(f(2))"
   ]
  },
  {
   "cell_type": "markdown",
   "metadata": {},
   "source": [
    "装饰器:不破坏原结构的情况下，添加新功能。\n",
    "装饰器顺序：<br>\n",
    "@a <br>\n",
    "@b <br>\n",
    "@c <br>\n",
    "def f(): <br>\n",
    "等价于 f = a(b(c(f)))"
   ]
  },
  {
   "cell_type": "code",
   "execution_count": 27,
   "metadata": {},
   "outputs": [
    {
     "name": "stdout",
     "output_type": "stream",
     "text": [
      "start\n",
      "func: add_num\n",
      "args (10, 20)\n",
      "kwargs {}\n",
      "result 30\n",
      "end\n",
      "30\n"
     ]
    }
   ],
   "source": [
    "def print_more(func):\n",
    "    def wrapper(*args, **kwargs):\n",
    "        print('func:', func.__name__)\n",
    "        print('args:', args)\n",
    "        print('kwargs:', kwargs)\n",
    "        result = func(*args, **kwargs)\n",
    "        print('result', result)\n",
    "        return result\n",
    "    return wrapper\n",
    "\n",
    "def print_info(func):\n",
    "    def wrapper(*args, **kwargs):\n",
    "        print('start')\n",
    "        result = func(*args, **kwargs)\n",
    "        print('end')\n",
    "        return result\n",
    "    return wrapper\n",
    "\n",
    "@print_info\n",
    "@print_more # 顺序有影响！\n",
    "def add_num(a, b):\n",
    "    return a + b\n",
    "\n",
    "r = add_num(10, 20)\n",
    "print(r)"
   ]
  },
  {
   "cell_type": "markdown",
   "metadata": {},
   "source": [
    "匿名函数 lambda 减少函数名<br>\n",
    "https://www.zhihu.com/question/20125256"
   ]
  },
  {
   "cell_type": "code",
   "execution_count": 48,
   "metadata": {},
   "outputs": [
    {
     "name": "stdout",
     "output_type": "stream",
     "text": [
      "Mon\n",
      "Tue\n",
      "Wed\n",
      "<map object at 0x112541dd0>\n",
      "[1, 4, 9, 16, 25]\n"
     ]
    }
   ],
   "source": [
    "words = ['mon', 'tue', 'wed']\n",
    "\n",
    "def change_words(words, func):\n",
    "    for word in words:\n",
    "        print(func(word))\n",
    "\n",
    "#def sample_func(word):\n",
    "#    return word.capitalize()\n",
    "     \n",
    "#change_words(words,sample_func) #可以用下面一行来替代。\n",
    "\n",
    "\n",
    "change_words(words, lambda word: word.capitalize())\n",
    "\n",
    "m = map(lambda x: x ** 2, [1, 2, 3, 4, 5])\n",
    "print(m)\n",
    "l = list(m) # 套一个list才能显示出值来\n",
    "print(l)"
   ]
  },
  {
   "cell_type": "markdown",
   "metadata": {},
   "source": [
    "生成器 <br>\n",
    "超出部分会跳出错误：stopInteration."
   ]
  },
  {
   "cell_type": "code",
   "execution_count": 42,
   "metadata": {},
   "outputs": [
    {
     "name": "stdout",
     "output_type": "stream",
     "text": [
      "run\n",
      "run\n",
      "run\n"
     ]
    },
    {
     "ename": "StopIteration",
     "evalue": "",
     "output_type": "error",
     "traceback": [
      "\u001b[0;31m---------------------------------------------------------------------------\u001b[0m",
      "\u001b[0;31mStopIteration\u001b[0m                             Traceback (most recent call last)",
      "\u001b[0;32m<ipython-input-42-b0b65b0b11f2>\u001b[0m in \u001b[0;36m<module>\u001b[0;34m\u001b[0m\n\u001b[1;32m      7\u001b[0m \u001b[0mprint\u001b[0m\u001b[0;34m(\u001b[0m\u001b[0mnext\u001b[0m\u001b[0;34m(\u001b[0m\u001b[0mc\u001b[0m\u001b[0;34m)\u001b[0m\u001b[0;34m)\u001b[0m\u001b[0;34m\u001b[0m\u001b[0;34m\u001b[0m\u001b[0m\n\u001b[1;32m      8\u001b[0m \u001b[0mprint\u001b[0m\u001b[0;34m(\u001b[0m\u001b[0mnext\u001b[0m\u001b[0;34m(\u001b[0m\u001b[0mc\u001b[0m\u001b[0;34m)\u001b[0m\u001b[0;34m)\u001b[0m\u001b[0;34m\u001b[0m\u001b[0;34m\u001b[0m\u001b[0m\n\u001b[0;32m----> 9\u001b[0;31m \u001b[0mprint\u001b[0m\u001b[0;34m(\u001b[0m\u001b[0mnext\u001b[0m\u001b[0;34m(\u001b[0m\u001b[0mc\u001b[0m\u001b[0;34m)\u001b[0m\u001b[0;34m)\u001b[0m\u001b[0;34m\u001b[0m\u001b[0;34m\u001b[0m\u001b[0m\n\u001b[0m",
      "\u001b[0;31mStopIteration\u001b[0m: "
     ]
    }
   ],
   "source": [
    "def counter(num=3):\n",
    "    for _ in range(num): # _表示参数没有用。\n",
    "        yield 'run'\n",
    "\n",
    "c = counter()\n",
    "print(next(c))\n",
    "print(next(c))\n",
    "print(next(c))\n",
    "print(next(c))# 超出部分"
   ]
  },
  {
   "cell_type": "markdown",
   "metadata": {},
   "source": [
    "全局变量和局部变量"
   ]
  },
  {
   "cell_type": "code",
   "execution_count": 54,
   "metadata": {},
   "outputs": [
    {
     "name": "stdout",
     "output_type": "stream",
     "text": [
      "f\n",
      "test func doc\n",
      "local: {'animal': 'dog'}\n",
      "global: {'__name__': '__main__', '__doc__': 'Automatically created module for IPython interactive environment', '__package__': None, '__loader__': None, '__spec__': None, '__builtin__': <module 'builtins' (built-in)>, '__builtins__': <module 'builtins' (built-in)>, '_ih': ['', 'flist = []\\nfor i in range(3):\\n    def func(x):\\n        return x * i\\n    flist.append(func)\\n\\nfor f in flist:\\n    print(f(2))', 'flist = []\\n\\nfor i in range(3):\\n    def makefunc(i):\\n        def func(x):\\n            return x * i\\n        return func\\n    flst.append(makefunc(i))\\n\\nfor f in flist:\\n    print(f(2))', 'flist = []\\n\\nfor i in range(3):\\n    def makefunc(i):\\n        def func(x):\\n            return x * i\\n        return func\\n    flist.append(makefunc(i))\\n\\nfor f in flist:\\n    print(f(2))', 'flist = []\\n\\nfor i in range(3):\\n    def makefunc(i):\\n        def func(x):\\n            return x * i\\n        return func\\n    flist.append(makefunc(i))\\n\\nfor f in flist:\\n    print(f)\\n    print(f(2))', 'flist = []\\n\\nfor i in range(3):\\n    def makefunc(i):\\n        def func(x):\\n            return x * i\\n        return func\\n    flist.append(makefunc(i))\\n\\nfor f in flist:\\n    print(f(2))', 'flist = [] # 这是个函数list\\nfor i in range(3):\\n    def func(x):\\n        return x * i\\n    flist.append(func)\\n\\nfor f in flist:\\n    print(f,flist)\\n    print(f(2)) # 只把最后的x*i保存了三次。', 'flist = [] # 这是个函数list\\nfor i in range(3):\\n    def func(x):\\n        return x * i\\n    flist.append(func)\\n\\nfor f in flist:\\n    print(f)\\n    print(f(2)) # 只把最后的x*i保存了三次。', 'flist = [] # 这是个函数list\\nfor i in range(3):\\n    def func(x):\\n        return x * i\\n    print(id(i))\\n    flist.append(func)\\n\\nfor f in flist:\\n    print(f) # 确实函数是不同的函数。\\n    print(f(2)) # 只把最后的x*i保存了三次。', 'flist = [] # 这是个函数list\\nfor i in range(3):\\n    def func(x):\\n        return x * i\\n    print(id(i),id(x))\\n    flist.append(func)\\n\\nfor f in flist:\\n    print(f) # 确实函数是不同的函数。\\n    print(f(2)) # 只把最后的x*i保存了三次。', 'flist = [] # 这是个函数list\\nfor i in range(3):\\n    def func(x):\\n        print(x * i)\\n        return x * i\\n    flist.append(func)\\n\\nfor f in flist:\\n    print(f) # 确实函数是不同的函数。\\n    print(f(2)) # 只把最后的x*i保存了三次。', 'flist = [] # 这是个函数list\\nfor i in range(3):\\n    def func(x):\\n        print(x , i)\\n        return x * i\\n    flist.append(func)\\n\\nfor f in flist:\\n    print(f) # 确实函数是不同的函数。\\n    print(f(2)) # 只把最后的x*i保存了三次。', 'flist = [] # 这是个函数list\\nfor i in range(3):\\n    def func(x):\\n        print(x, i)\\n        return x * i\\n    flist.append(func)\\n\\nfor f in flist:\\n    print(f) # 确实函数是不同的函数。\\n    print(f(2)) # 只把最后的x*i保存了三次。', 'flist = [] # 这是个函数list\\nfor i in range(3):\\n    def func(x):\\n        print(x, i)\\n        return x * i\\n    flist.append(func)\\n\\nfor f in flist:\\n    #print(f) # 确实函数是不同的函数。\\n    print(f(2)) # 只把最后的x*i保存了三次。', 'flist = [] # 这是个函数list\\nfor i in range(3):\\n    def func(x):\\n        #print(x, i) 这个值在第一次循环的时候就是2，2了。\\n        return x * i\\n    flist.append(func)\\n\\nfor f in flist:\\n    #print(f) # 确实函数是不同的函数。\\n    print(f(3)) # 只把最后的x*i保存了三次。', 'flist = [] # 这是个函数list\\nfor i in range(3):\\n    def func(x):\\n        #print(x, i) 这个值在第一次循环的时候就是2，2了。\\n        return x * i\\n    flist.append(func)\\n\\nfor f in flist:\\n    #print(f) # 确实函数是不同的函数。\\n    print(f(2)) # 只把最后的x*i保存了三次。', 'flist = [] # 这是个函数list\\nfor i in range(3):\\n    def func(x): \\n        return x * i\\n    flist.append(func)\\n\\nfor f in flist:\\n    #print(f) # 确实函数是不同的函数。\\n    print(f(2)) # 只把最后的x*i保存了三次。调取的时候loop已经结束了。', 'flist = []\\n\\nfor i in range(3):\\n    def makefunc(i):\\n        def func(x):\\n            print(x,i)\\n            return x * i\\n        return func\\n    flist.append(makefunc(i))\\n\\nfor f in flist:\\n    print(f(2))', 'flist = []\\n\\nfor i in range(3):\\n    def makefunc(i):\\n        def func(x):\\n            #print(x,i)\\n            return x * i\\n        return func\\n    flist.append(makefunc(i))\\n\\nfor f in flist:\\n    print(f(2))', 'flist = []\\n\\nfor i in range(3):\\n    def makefunc(i):\\n        def func(x):\\n            #print(x, i)\\n            return x * i\\n        return func\\n    print(i)\\n    flist.append(makefunc(i))\\n\\nfor f in flist:\\n    print(f(2))', 'flist = []\\n\\nfor i in range(3):\\n    def makefunc(i):\\n        def func(x):\\n            #print(x, i)\\n            return x * i\\n        return func\\n    flist.append(makefunc(i))\\n\\nfor f in flist:\\n    print(f(2))', \"def print_more(func):\\n    def wrapper(*args, **kwargs):\\n        print('func:', func.__name__)\\n        result = func(*args, **kwargs)\\n        return result\\n    return warpper\\n\\ndef print_info(func):\\n    def wrapper(*args, **kwargs):\\n        print('start')\\n        result = func(*args, **kwargs)\\n        print('end')\\n        return result\\n    return wrapper\\n\\n@print_info\\ndef add_num(a, b):\\n    return a + b\\n\\nr = add_num(10, 20)\\nprint(r)\", \"def print_more(func):\\n    def wrapper(*args, **kwargs):\\n        print('func:', func.__name__)\\n        result = func(*args, **kwargs)\\n        return result\\n    return warpper\\n\\ndef print_info(func):\\n    def wrapper(*args, **kwargs):\\n        print('start')\\n        result = func(*args, **kwargs)\\n        print('end')\\n        return result\\n    return wrapper\\n\\n@print_info\\n@print_more\\ndef add_num(a, b):\\n    return a + b\\n\\nr = add_num(10, 20)\\nprint(r)\", \"def print_more(func):\\n    def wrapper(*args, **kwargs):\\n        print('func:', func.__name__)\\n        result = func(*args, **kwargs)\\n        return result\\n    return wrapper\\n\\ndef print_info(func):\\n    def wrapper(*args, **kwargs):\\n        print('start')\\n        result = func(*args, **kwargs)\\n        print('end')\\n        return result\\n    return wrapper\\n\\n@print_info\\n@print_more\\ndef add_num(a, b):\\n    return a + b\\n\\nr = add_num(10, 20)\\nprint(r)\", \"def print_more(func):\\n    def wrapper(*args, **kwargs):\\n        print('func:', func.__name__)\\n        result = func(*args, **kwargs)\\n        return result\\n    return wrapper\\n\\ndef print_info(func):\\n    def wrapper(*args, **kwargs):\\n        print('start')\\n        result = func(*args, **kwargs)\\n        print('end')\\n        return result\\n    return wrapper\\n\\n@print_more\\n@print_info\\ndef add_num(a, b):\\n    return a + b\\n\\nr = add_num(10, 20)\\nprint(r)\", \"def print_more(func):\\n    def wrapper(*args, **kwargs):\\n        print('func:', func.__name__)\\n        result = func(*args, **kwargs)\\n        return result\\n    return wrapper\\n\\ndef print_info(func):\\n    def wrapper(*args, **kwargs):\\n        print('start')\\n        result = func(*args, **kwargs)\\n        print('end')\\n        return result\\n    return wrapper\\n\\n@print_info\\n@print_more\\ndef add_num(a, b):\\n    return a + b\\n\\nr = add_num(10, 20)\\nprint(r)\", \"def print_more(func):\\n    def wrapper(*args, **kwargs):\\n        print('func:', func.__name__)\\n        print('args', args)\\n        print('kwargs', kwargs)\\n        result = func(*args, **kwargs)\\n        print('result', result)\\n        return result\\n    return wrapper\\n\\ndef print_info(func):\\n    def wrapper(*args, **kwargs):\\n        print('start')\\n        result = func(*args, **kwargs)\\n        print('end')\\n        return result\\n    return wrapper\\n\\n@print_info\\n@print_more # 顺序有影响！\\ndef add_num(a, b):\\n    return a + b\\n\\nr = add_num(10, 20)\\nprint(r)\", \"def print_more(func):\\n    def wrapper(*args, **kwargs):\\n        print('func:', func.__name__)\\n        print('args', args)\\n        print('kwargs', kwargs)\\n        result = func(*args, **kwargs)\\n        print('result', result)\\n        return result\\n    return wrapper\\n\\ndef print_info(func):\\n    def wrapper(*args, **kwargs):\\n        print('start')\\n        result = func(*args, **kwargs)\\n        print('end')\\n        return result\\n    return wrapper\\n\\n@print_info\\n@print_more # 顺序有影响！\\ndef add_num(a, b):\\n    return a + b\\n\\nr = add_num(10, 20)\\nprint(r)\", \"word = ['mon', 'tue', 'wed']\", \"word = ['mon', 'tue', 'wed']\\ndef sample_func(word):\\n    return word.capitalize()\", \"word = ['mon', 'tue', 'wed']\\ndef sample_func(word):\\n    return word.capitalize()\\nprint(sample_func(word))\", \"words = ['mon', 'tue', 'wed']\\ndef change_words(words, func):\\n    for word in words:\\n        print(func(word))\\n        \\nprint(sample_func(word))\", \"words = ['mon', 'tue', 'wed']\\n\\ndef change_words(words, func):\\n    for word in words:\\n        print(func(word))\\n\\ndef sample_func(word):\\n    return word.capitalize()\\n        \", \"words = ['mon', 'tue', 'wed']\\n\\ndef change_words(words, func):\\n    for word in words:\\n        print(func(word))\\n\\ndef sample_func(word):\\n    return word.capitalize()\\n     \\nchange_words(words,sample_func)\", \"words = ['mon', 'tue', 'wed']\\n\\ndef change_words(words, func):\\n    for word in words:\\n        print(func(word))\\n\\ndef sample_func(word):\\n    return word.capitalize()\\n     \\nchange_words(words,sample_func)\\n\\nchange_words(l, word: lambda word: word.capitalize())\", \"words = ['mon', 'tue', 'wed']\\n\\ndef change_words(words, func):\\n    for word in words:\\n        print(func(word))\\n\\ndef sample_func(word):\\n    return word.capitalize()\\n     \\nchange_words(words,sample_func)\\n\\nchange_words(l, lambda word: word.capitalize())\", \"words = ['mon', 'tue', 'wed']\\n\\ndef change_words(words, func):\\n    for word in words:\\n        print(func(word))\\n\\ndef sample_func(word):\\n    return word.capitalize()\\n     \\nchange_words(words,sample_func)\\n\\nchange_words(words, lambda word: word.capitalize())\", \"words = ['mon', 'tue', 'wed']\\n\\ndef change_words(words, func):\\n    for word in words:\\n        print(func(word))\\n\\n#def sample_func(word):\\n#    return word.capitalize()\\n     \\n#change_words(words,sample_func) #可以用下面一行来替代。\\n\\n\\nchange_words(words, lambda word: word.capitalize())\", \"def counter(num=5):\\n    for _ in range(num):\\n        yield 'run'\", \"def counter(num=5):\\n    for _ in range(num):\\n        yield 'run'\\n\\nc = counter()\\nprint(next(c))\", \"def counter(num=5):\\n    for _ in range(num):\\n        yield 'run'\\n\\nc = counter()\\nprint(next(c))\\nprint(next(c))\\nprint(next(c))\\nprint(next(c))\", \"def counter(num=3):\\n    for _ in range(num):\\n        yield 'run'\\n\\nc = counter()\\nprint(next(c))\\nprint(next(c))\\nprint(next(c))\\nprint(next(c))\", \"def counter(num=3):\\n    for _ in range(num):\\n        yield 'run'\\n\\nc = counter()\\nprint(next(c))\\nprint(next(c))\\nprint(next(c))\\nprint(next(c))\", \"words = ['mon', 'tue', 'wed']\\n\\ndef change_words(words, func):\\n    for word in words:\\n        print(func(word))\\n\\n#def sample_func(word):\\n#    return word.capitalize()\\n     \\n#change_words(words,sample_func) #可以用下面一行来替代。\\n\\n\\nchange_words(words, lambda word: word.capitalize())\\n\\nl = map(lambda x: x ** 2, [1, 2, 3, 4, 5])\", \"words = ['mon', 'tue', 'wed']\\n\\ndef change_words(words, func):\\n    for word in words:\\n        print(func(word))\\n\\n#def sample_func(word):\\n#    return word.capitalize()\\n     \\n#change_words(words,sample_func) #可以用下面一行来替代。\\n\\n\\nchange_words(words, lambda word: word.capitalize())\\n\\nl = map(lambda x: x ** 2, [1, 2, 3, 4, 5])\\nprint(l)\", \"words = ['mon', 'tue', 'wed']\\n\\ndef change_words(words, func):\\n    for word in words:\\n        print(func(word))\\n\\n#def sample_func(word):\\n#    return word.capitalize()\\n     \\n#change_words(words,sample_func) #可以用下面一行来替代。\\n\\n\\nchange_words(words, lambda word: word.capitalize())\\n\\nm = map(lambda x: x ** 2, [1, 2, 3, 4, 5])\\nprint(m)\", \"words = ['mon', 'tue', 'wed']\\n\\ndef change_words(words, func):\\n    for word in words:\\n        print(func(word))\\n\\n#def sample_func(word):\\n#    return word.capitalize()\\n     \\n#change_words(words,sample_func) #可以用下面一行来替代。\\n\\n\\nchange_words(words, lambda word: word.capitalize())\\n\\nm = map(lambda x: x ** 2, [1, 2, 3, 4, 5])\\nprint(m)\\nl = list[m]\\nprint(l)\", \"words = ['mon', 'tue', 'wed']\\n\\ndef change_words(words, func):\\n    for word in words:\\n        print(func(word))\\n\\n#def sample_func(word):\\n#    return word.capitalize()\\n     \\n#change_words(words,sample_func) #可以用下面一行来替代。\\n\\n\\nchange_words(words, lambda word: word.capitalize())\\n\\nm = map(lambda x: x ** 2, [1, 2, 3, 4, 5])\\nprint(m)\\nl = list(m)\\nprint(l)\", \"words = ['mon', 'tue', 'wed']\\n\\ndef change_words(words, func):\\n    for word in words:\\n        print(func(word))\\n\\n#def sample_func(word):\\n#    return word.capitalize()\\n     \\n#change_words(words,sample_func) #可以用下面一行来替代。\\n\\n\\nchange_words(words, lambda word: word.capitalize())\\n\\nm = map(lambda x: x ** 2, [1, 2, 3, 4, 5])\\nprint(m)\\nl = list(m) # 套一个list才能显示出值来\\nprint(l)\", \"animal = 'cat'\\n\\ndef f():\\n    animal = 'dog'\\n    print('local:', locals())\\n    \", \"animal = 'cat'\\n\\ndef f():\\n    animal = 'dog'\\n    print('local:', locals())\\n\\n    f()\", \"animal = 'cat'\\n\\ndef f():\\n    animal = 'dog'\\n    print('local:', locals())\\n\\nf()\", \"animal = 'cat'\\n\\ndef f():\\n    animal = 'dog'\\n    print('local:', locals())\\n\\nf()\\nprint('global:', globals)\", \"animal = 'cat'\\n\\ndef f():\\n    animal = 'dog'\\n    print('local:', locals())\\n\\nf()\\nprint('global:', globals())\", 'animal = \\'cat\\'\\n\\ndef f():\\n    \"\"\"test func doc\"\"\"\\n    animal = \\'dog\\'\\n    print(f.__name__)\\n    print(f.__doc__)\\n    print(\\'local:\\', locals())\\n\\nf()\\nprint(\\'global:\\', globals())# 输出一大串'], '_oh': {}, '_dh': ['/Users/huitang/Desktop/python_learning'], 'In': ['', 'flist = []\\nfor i in range(3):\\n    def func(x):\\n        return x * i\\n    flist.append(func)\\n\\nfor f in flist:\\n    print(f(2))', 'flist = []\\n\\nfor i in range(3):\\n    def makefunc(i):\\n        def func(x):\\n            return x * i\\n        return func\\n    flst.append(makefunc(i))\\n\\nfor f in flist:\\n    print(f(2))', 'flist = []\\n\\nfor i in range(3):\\n    def makefunc(i):\\n        def func(x):\\n            return x * i\\n        return func\\n    flist.append(makefunc(i))\\n\\nfor f in flist:\\n    print(f(2))', 'flist = []\\n\\nfor i in range(3):\\n    def makefunc(i):\\n        def func(x):\\n            return x * i\\n        return func\\n    flist.append(makefunc(i))\\n\\nfor f in flist:\\n    print(f)\\n    print(f(2))', 'flist = []\\n\\nfor i in range(3):\\n    def makefunc(i):\\n        def func(x):\\n            return x * i\\n        return func\\n    flist.append(makefunc(i))\\n\\nfor f in flist:\\n    print(f(2))', 'flist = [] # 这是个函数list\\nfor i in range(3):\\n    def func(x):\\n        return x * i\\n    flist.append(func)\\n\\nfor f in flist:\\n    print(f,flist)\\n    print(f(2)) # 只把最后的x*i保存了三次。', 'flist = [] # 这是个函数list\\nfor i in range(3):\\n    def func(x):\\n        return x * i\\n    flist.append(func)\\n\\nfor f in flist:\\n    print(f)\\n    print(f(2)) # 只把最后的x*i保存了三次。', 'flist = [] # 这是个函数list\\nfor i in range(3):\\n    def func(x):\\n        return x * i\\n    print(id(i))\\n    flist.append(func)\\n\\nfor f in flist:\\n    print(f) # 确实函数是不同的函数。\\n    print(f(2)) # 只把最后的x*i保存了三次。', 'flist = [] # 这是个函数list\\nfor i in range(3):\\n    def func(x):\\n        return x * i\\n    print(id(i),id(x))\\n    flist.append(func)\\n\\nfor f in flist:\\n    print(f) # 确实函数是不同的函数。\\n    print(f(2)) # 只把最后的x*i保存了三次。', 'flist = [] # 这是个函数list\\nfor i in range(3):\\n    def func(x):\\n        print(x * i)\\n        return x * i\\n    flist.append(func)\\n\\nfor f in flist:\\n    print(f) # 确实函数是不同的函数。\\n    print(f(2)) # 只把最后的x*i保存了三次。', 'flist = [] # 这是个函数list\\nfor i in range(3):\\n    def func(x):\\n        print(x , i)\\n        return x * i\\n    flist.append(func)\\n\\nfor f in flist:\\n    print(f) # 确实函数是不同的函数。\\n    print(f(2)) # 只把最后的x*i保存了三次。', 'flist = [] # 这是个函数list\\nfor i in range(3):\\n    def func(x):\\n        print(x, i)\\n        return x * i\\n    flist.append(func)\\n\\nfor f in flist:\\n    print(f) # 确实函数是不同的函数。\\n    print(f(2)) # 只把最后的x*i保存了三次。', 'flist = [] # 这是个函数list\\nfor i in range(3):\\n    def func(x):\\n        print(x, i)\\n        return x * i\\n    flist.append(func)\\n\\nfor f in flist:\\n    #print(f) # 确实函数是不同的函数。\\n    print(f(2)) # 只把最后的x*i保存了三次。', 'flist = [] # 这是个函数list\\nfor i in range(3):\\n    def func(x):\\n        #print(x, i) 这个值在第一次循环的时候就是2，2了。\\n        return x * i\\n    flist.append(func)\\n\\nfor f in flist:\\n    #print(f) # 确实函数是不同的函数。\\n    print(f(3)) # 只把最后的x*i保存了三次。', 'flist = [] # 这是个函数list\\nfor i in range(3):\\n    def func(x):\\n        #print(x, i) 这个值在第一次循环的时候就是2，2了。\\n        return x * i\\n    flist.append(func)\\n\\nfor f in flist:\\n    #print(f) # 确实函数是不同的函数。\\n    print(f(2)) # 只把最后的x*i保存了三次。', 'flist = [] # 这是个函数list\\nfor i in range(3):\\n    def func(x): \\n        return x * i\\n    flist.append(func)\\n\\nfor f in flist:\\n    #print(f) # 确实函数是不同的函数。\\n    print(f(2)) # 只把最后的x*i保存了三次。调取的时候loop已经结束了。', 'flist = []\\n\\nfor i in range(3):\\n    def makefunc(i):\\n        def func(x):\\n            print(x,i)\\n            return x * i\\n        return func\\n    flist.append(makefunc(i))\\n\\nfor f in flist:\\n    print(f(2))', 'flist = []\\n\\nfor i in range(3):\\n    def makefunc(i):\\n        def func(x):\\n            #print(x,i)\\n            return x * i\\n        return func\\n    flist.append(makefunc(i))\\n\\nfor f in flist:\\n    print(f(2))', 'flist = []\\n\\nfor i in range(3):\\n    def makefunc(i):\\n        def func(x):\\n            #print(x, i)\\n            return x * i\\n        return func\\n    print(i)\\n    flist.append(makefunc(i))\\n\\nfor f in flist:\\n    print(f(2))', 'flist = []\\n\\nfor i in range(3):\\n    def makefunc(i):\\n        def func(x):\\n            #print(x, i)\\n            return x * i\\n        return func\\n    flist.append(makefunc(i))\\n\\nfor f in flist:\\n    print(f(2))', \"def print_more(func):\\n    def wrapper(*args, **kwargs):\\n        print('func:', func.__name__)\\n        result = func(*args, **kwargs)\\n        return result\\n    return warpper\\n\\ndef print_info(func):\\n    def wrapper(*args, **kwargs):\\n        print('start')\\n        result = func(*args, **kwargs)\\n        print('end')\\n        return result\\n    return wrapper\\n\\n@print_info\\ndef add_num(a, b):\\n    return a + b\\n\\nr = add_num(10, 20)\\nprint(r)\", \"def print_more(func):\\n    def wrapper(*args, **kwargs):\\n        print('func:', func.__name__)\\n        result = func(*args, **kwargs)\\n        return result\\n    return warpper\\n\\ndef print_info(func):\\n    def wrapper(*args, **kwargs):\\n        print('start')\\n        result = func(*args, **kwargs)\\n        print('end')\\n        return result\\n    return wrapper\\n\\n@print_info\\n@print_more\\ndef add_num(a, b):\\n    return a + b\\n\\nr = add_num(10, 20)\\nprint(r)\", \"def print_more(func):\\n    def wrapper(*args, **kwargs):\\n        print('func:', func.__name__)\\n        result = func(*args, **kwargs)\\n        return result\\n    return wrapper\\n\\ndef print_info(func):\\n    def wrapper(*args, **kwargs):\\n        print('start')\\n        result = func(*args, **kwargs)\\n        print('end')\\n        return result\\n    return wrapper\\n\\n@print_info\\n@print_more\\ndef add_num(a, b):\\n    return a + b\\n\\nr = add_num(10, 20)\\nprint(r)\", \"def print_more(func):\\n    def wrapper(*args, **kwargs):\\n        print('func:', func.__name__)\\n        result = func(*args, **kwargs)\\n        return result\\n    return wrapper\\n\\ndef print_info(func):\\n    def wrapper(*args, **kwargs):\\n        print('start')\\n        result = func(*args, **kwargs)\\n        print('end')\\n        return result\\n    return wrapper\\n\\n@print_more\\n@print_info\\ndef add_num(a, b):\\n    return a + b\\n\\nr = add_num(10, 20)\\nprint(r)\", \"def print_more(func):\\n    def wrapper(*args, **kwargs):\\n        print('func:', func.__name__)\\n        result = func(*args, **kwargs)\\n        return result\\n    return wrapper\\n\\ndef print_info(func):\\n    def wrapper(*args, **kwargs):\\n        print('start')\\n        result = func(*args, **kwargs)\\n        print('end')\\n        return result\\n    return wrapper\\n\\n@print_info\\n@print_more\\ndef add_num(a, b):\\n    return a + b\\n\\nr = add_num(10, 20)\\nprint(r)\", \"def print_more(func):\\n    def wrapper(*args, **kwargs):\\n        print('func:', func.__name__)\\n        print('args', args)\\n        print('kwargs', kwargs)\\n        result = func(*args, **kwargs)\\n        print('result', result)\\n        return result\\n    return wrapper\\n\\ndef print_info(func):\\n    def wrapper(*args, **kwargs):\\n        print('start')\\n        result = func(*args, **kwargs)\\n        print('end')\\n        return result\\n    return wrapper\\n\\n@print_info\\n@print_more # 顺序有影响！\\ndef add_num(a, b):\\n    return a + b\\n\\nr = add_num(10, 20)\\nprint(r)\", \"def print_more(func):\\n    def wrapper(*args, **kwargs):\\n        print('func:', func.__name__)\\n        print('args', args)\\n        print('kwargs', kwargs)\\n        result = func(*args, **kwargs)\\n        print('result', result)\\n        return result\\n    return wrapper\\n\\ndef print_info(func):\\n    def wrapper(*args, **kwargs):\\n        print('start')\\n        result = func(*args, **kwargs)\\n        print('end')\\n        return result\\n    return wrapper\\n\\n@print_info\\n@print_more # 顺序有影响！\\ndef add_num(a, b):\\n    return a + b\\n\\nr = add_num(10, 20)\\nprint(r)\", \"word = ['mon', 'tue', 'wed']\", \"word = ['mon', 'tue', 'wed']\\ndef sample_func(word):\\n    return word.capitalize()\", \"word = ['mon', 'tue', 'wed']\\ndef sample_func(word):\\n    return word.capitalize()\\nprint(sample_func(word))\", \"words = ['mon', 'tue', 'wed']\\ndef change_words(words, func):\\n    for word in words:\\n        print(func(word))\\n        \\nprint(sample_func(word))\", \"words = ['mon', 'tue', 'wed']\\n\\ndef change_words(words, func):\\n    for word in words:\\n        print(func(word))\\n\\ndef sample_func(word):\\n    return word.capitalize()\\n        \", \"words = ['mon', 'tue', 'wed']\\n\\ndef change_words(words, func):\\n    for word in words:\\n        print(func(word))\\n\\ndef sample_func(word):\\n    return word.capitalize()\\n     \\nchange_words(words,sample_func)\", \"words = ['mon', 'tue', 'wed']\\n\\ndef change_words(words, func):\\n    for word in words:\\n        print(func(word))\\n\\ndef sample_func(word):\\n    return word.capitalize()\\n     \\nchange_words(words,sample_func)\\n\\nchange_words(l, word: lambda word: word.capitalize())\", \"words = ['mon', 'tue', 'wed']\\n\\ndef change_words(words, func):\\n    for word in words:\\n        print(func(word))\\n\\ndef sample_func(word):\\n    return word.capitalize()\\n     \\nchange_words(words,sample_func)\\n\\nchange_words(l, lambda word: word.capitalize())\", \"words = ['mon', 'tue', 'wed']\\n\\ndef change_words(words, func):\\n    for word in words:\\n        print(func(word))\\n\\ndef sample_func(word):\\n    return word.capitalize()\\n     \\nchange_words(words,sample_func)\\n\\nchange_words(words, lambda word: word.capitalize())\", \"words = ['mon', 'tue', 'wed']\\n\\ndef change_words(words, func):\\n    for word in words:\\n        print(func(word))\\n\\n#def sample_func(word):\\n#    return word.capitalize()\\n     \\n#change_words(words,sample_func) #可以用下面一行来替代。\\n\\n\\nchange_words(words, lambda word: word.capitalize())\", \"def counter(num=5):\\n    for _ in range(num):\\n        yield 'run'\", \"def counter(num=5):\\n    for _ in range(num):\\n        yield 'run'\\n\\nc = counter()\\nprint(next(c))\", \"def counter(num=5):\\n    for _ in range(num):\\n        yield 'run'\\n\\nc = counter()\\nprint(next(c))\\nprint(next(c))\\nprint(next(c))\\nprint(next(c))\", \"def counter(num=3):\\n    for _ in range(num):\\n        yield 'run'\\n\\nc = counter()\\nprint(next(c))\\nprint(next(c))\\nprint(next(c))\\nprint(next(c))\", \"def counter(num=3):\\n    for _ in range(num):\\n        yield 'run'\\n\\nc = counter()\\nprint(next(c))\\nprint(next(c))\\nprint(next(c))\\nprint(next(c))\", \"words = ['mon', 'tue', 'wed']\\n\\ndef change_words(words, func):\\n    for word in words:\\n        print(func(word))\\n\\n#def sample_func(word):\\n#    return word.capitalize()\\n     \\n#change_words(words,sample_func) #可以用下面一行来替代。\\n\\n\\nchange_words(words, lambda word: word.capitalize())\\n\\nl = map(lambda x: x ** 2, [1, 2, 3, 4, 5])\", \"words = ['mon', 'tue', 'wed']\\n\\ndef change_words(words, func):\\n    for word in words:\\n        print(func(word))\\n\\n#def sample_func(word):\\n#    return word.capitalize()\\n     \\n#change_words(words,sample_func) #可以用下面一行来替代。\\n\\n\\nchange_words(words, lambda word: word.capitalize())\\n\\nl = map(lambda x: x ** 2, [1, 2, 3, 4, 5])\\nprint(l)\", \"words = ['mon', 'tue', 'wed']\\n\\ndef change_words(words, func):\\n    for word in words:\\n        print(func(word))\\n\\n#def sample_func(word):\\n#    return word.capitalize()\\n     \\n#change_words(words,sample_func) #可以用下面一行来替代。\\n\\n\\nchange_words(words, lambda word: word.capitalize())\\n\\nm = map(lambda x: x ** 2, [1, 2, 3, 4, 5])\\nprint(m)\", \"words = ['mon', 'tue', 'wed']\\n\\ndef change_words(words, func):\\n    for word in words:\\n        print(func(word))\\n\\n#def sample_func(word):\\n#    return word.capitalize()\\n     \\n#change_words(words,sample_func) #可以用下面一行来替代。\\n\\n\\nchange_words(words, lambda word: word.capitalize())\\n\\nm = map(lambda x: x ** 2, [1, 2, 3, 4, 5])\\nprint(m)\\nl = list[m]\\nprint(l)\", \"words = ['mon', 'tue', 'wed']\\n\\ndef change_words(words, func):\\n    for word in words:\\n        print(func(word))\\n\\n#def sample_func(word):\\n#    return word.capitalize()\\n     \\n#change_words(words,sample_func) #可以用下面一行来替代。\\n\\n\\nchange_words(words, lambda word: word.capitalize())\\n\\nm = map(lambda x: x ** 2, [1, 2, 3, 4, 5])\\nprint(m)\\nl = list(m)\\nprint(l)\", \"words = ['mon', 'tue', 'wed']\\n\\ndef change_words(words, func):\\n    for word in words:\\n        print(func(word))\\n\\n#def sample_func(word):\\n#    return word.capitalize()\\n     \\n#change_words(words,sample_func) #可以用下面一行来替代。\\n\\n\\nchange_words(words, lambda word: word.capitalize())\\n\\nm = map(lambda x: x ** 2, [1, 2, 3, 4, 5])\\nprint(m)\\nl = list(m) # 套一个list才能显示出值来\\nprint(l)\", \"animal = 'cat'\\n\\ndef f():\\n    animal = 'dog'\\n    print('local:', locals())\\n    \", \"animal = 'cat'\\n\\ndef f():\\n    animal = 'dog'\\n    print('local:', locals())\\n\\n    f()\", \"animal = 'cat'\\n\\ndef f():\\n    animal = 'dog'\\n    print('local:', locals())\\n\\nf()\", \"animal = 'cat'\\n\\ndef f():\\n    animal = 'dog'\\n    print('local:', locals())\\n\\nf()\\nprint('global:', globals)\", \"animal = 'cat'\\n\\ndef f():\\n    animal = 'dog'\\n    print('local:', locals())\\n\\nf()\\nprint('global:', globals())\", 'animal = \\'cat\\'\\n\\ndef f():\\n    \"\"\"test func doc\"\"\"\\n    animal = \\'dog\\'\\n    print(f.__name__)\\n    print(f.__doc__)\\n    print(\\'local:\\', locals())\\n\\nf()\\nprint(\\'global:\\', globals())# 输出一大串'], 'Out': {}, 'get_ipython': <bound method InteractiveShell.get_ipython of <ipykernel.zmqshell.ZMQInteractiveShell object at 0x11026f350>>, 'exit': <IPython.core.autocall.ZMQExitAutocall object at 0x1102e4810>, 'quit': <IPython.core.autocall.ZMQExitAutocall object at 0x1102e4810>, '_': '', '__': '', '___': '', '_i': \"animal = 'cat'\\n\\ndef f():\\n    animal = 'dog'\\n    print('local:', locals())\\n\\nf()\\nprint('global:', globals())\", '_ii': \"animal = 'cat'\\n\\ndef f():\\n    animal = 'dog'\\n    print('local:', locals())\\n\\nf()\\nprint('global:', globals)\", '_iii': \"animal = 'cat'\\n\\ndef f():\\n    animal = 'dog'\\n    print('local:', locals())\\n\\nf()\", '_i1': 'flist = []\\nfor i in range(3):\\n    def func(x):\\n        return x * i\\n    flist.append(func)\\n\\nfor f in flist:\\n    print(f(2))', 'flist': [<function makefunc.<locals>.func at 0x11241a950>, <function makefunc.<locals>.func at 0x11241add0>, <function makefunc.<locals>.func at 0x11241a9e0>], 'i': 2, 'func': <function func at 0x11241a7a0>, 'f': <function f at 0x11242f320>, '_i2': 'flist = []\\n\\nfor i in range(3):\\n    def makefunc(i):\\n        def func(x):\\n            return x * i\\n        return func\\n    flst.append(makefunc(i))\\n\\nfor f in flist:\\n    print(f(2))', 'makefunc': <function makefunc at 0x11241ad40>, '_i3': 'flist = []\\n\\nfor i in range(3):\\n    def makefunc(i):\\n        def func(x):\\n            return x * i\\n        return func\\n    flist.append(makefunc(i))\\n\\nfor f in flist:\\n    print(f(2))', '_i4': 'flist = []\\n\\nfor i in range(3):\\n    def makefunc(i):\\n        def func(x):\\n            return x * i\\n        return func\\n    flist.append(makefunc(i))\\n\\nfor f in flist:\\n    print(f)\\n    print(f(2))', '_i5': 'flist = []\\n\\nfor i in range(3):\\n    def makefunc(i):\\n        def func(x):\\n            return x * i\\n        return func\\n    flist.append(makefunc(i))\\n\\nfor f in flist:\\n    print(f(2))', '_i6': 'flist = [] # 这是个函数list\\nfor i in range(3):\\n    def func(x):\\n        return x * i\\n    flist.append(func)\\n\\nfor f in flist:\\n    print(f,flist)\\n    print(f(2)) # 只把最后的x*i保存了三次。', '_i7': 'flist = [] # 这是个函数list\\nfor i in range(3):\\n    def func(x):\\n        return x * i\\n    flist.append(func)\\n\\nfor f in flist:\\n    print(f)\\n    print(f(2)) # 只把最后的x*i保存了三次。', '_i8': 'flist = [] # 这是个函数list\\nfor i in range(3):\\n    def func(x):\\n        return x * i\\n    print(id(i))\\n    flist.append(func)\\n\\nfor f in flist:\\n    print(f) # 确实函数是不同的函数。\\n    print(f(2)) # 只把最后的x*i保存了三次。', '_i9': 'flist = [] # 这是个函数list\\nfor i in range(3):\\n    def func(x):\\n        return x * i\\n    print(id(i),id(x))\\n    flist.append(func)\\n\\nfor f in flist:\\n    print(f) # 确实函数是不同的函数。\\n    print(f(2)) # 只把最后的x*i保存了三次。', '_i10': 'flist = [] # 这是个函数list\\nfor i in range(3):\\n    def func(x):\\n        print(x * i)\\n        return x * i\\n    flist.append(func)\\n\\nfor f in flist:\\n    print(f) # 确实函数是不同的函数。\\n    print(f(2)) # 只把最后的x*i保存了三次。', '_i11': 'flist = [] # 这是个函数list\\nfor i in range(3):\\n    def func(x):\\n        print(x , i)\\n        return x * i\\n    flist.append(func)\\n\\nfor f in flist:\\n    print(f) # 确实函数是不同的函数。\\n    print(f(2)) # 只把最后的x*i保存了三次。', '_i12': 'flist = [] # 这是个函数list\\nfor i in range(3):\\n    def func(x):\\n        print(x, i)\\n        return x * i\\n    flist.append(func)\\n\\nfor f in flist:\\n    print(f) # 确实函数是不同的函数。\\n    print(f(2)) # 只把最后的x*i保存了三次。', '_i13': 'flist = [] # 这是个函数list\\nfor i in range(3):\\n    def func(x):\\n        print(x, i)\\n        return x * i\\n    flist.append(func)\\n\\nfor f in flist:\\n    #print(f) # 确实函数是不同的函数。\\n    print(f(2)) # 只把最后的x*i保存了三次。', '_i14': 'flist = [] # 这是个函数list\\nfor i in range(3):\\n    def func(x):\\n        #print(x, i) 这个值在第一次循环的时候就是2，2了。\\n        return x * i\\n    flist.append(func)\\n\\nfor f in flist:\\n    #print(f) # 确实函数是不同的函数。\\n    print(f(3)) # 只把最后的x*i保存了三次。', '_i15': 'flist = [] # 这是个函数list\\nfor i in range(3):\\n    def func(x):\\n        #print(x, i) 这个值在第一次循环的时候就是2，2了。\\n        return x * i\\n    flist.append(func)\\n\\nfor f in flist:\\n    #print(f) # 确实函数是不同的函数。\\n    print(f(2)) # 只把最后的x*i保存了三次。', '_i16': 'flist = [] # 这是个函数list\\nfor i in range(3):\\n    def func(x): \\n        return x * i\\n    flist.append(func)\\n\\nfor f in flist:\\n    #print(f) # 确实函数是不同的函数。\\n    print(f(2)) # 只把最后的x*i保存了三次。调取的时候loop已经结束了。', '_i17': 'flist = []\\n\\nfor i in range(3):\\n    def makefunc(i):\\n        def func(x):\\n            print(x,i)\\n            return x * i\\n        return func\\n    flist.append(makefunc(i))\\n\\nfor f in flist:\\n    print(f(2))', '_i18': 'flist = []\\n\\nfor i in range(3):\\n    def makefunc(i):\\n        def func(x):\\n            #print(x,i)\\n            return x * i\\n        return func\\n    flist.append(makefunc(i))\\n\\nfor f in flist:\\n    print(f(2))', '_i19': 'flist = []\\n\\nfor i in range(3):\\n    def makefunc(i):\\n        def func(x):\\n            #print(x, i)\\n            return x * i\\n        return func\\n    print(i)\\n    flist.append(makefunc(i))\\n\\nfor f in flist:\\n    print(f(2))', '_i20': 'flist = []\\n\\nfor i in range(3):\\n    def makefunc(i):\\n        def func(x):\\n            #print(x, i)\\n            return x * i\\n        return func\\n    flist.append(makefunc(i))\\n\\nfor f in flist:\\n    print(f(2))', '_i21': \"def print_more(func):\\n    def wrapper(*args, **kwargs):\\n        print('func:', func.__name__)\\n        result = func(*args, **kwargs)\\n        return result\\n    return warpper\\n\\ndef print_info(func):\\n    def wrapper(*args, **kwargs):\\n        print('start')\\n        result = func(*args, **kwargs)\\n        print('end')\\n        return result\\n    return wrapper\\n\\n@print_info\\ndef add_num(a, b):\\n    return a + b\\n\\nr = add_num(10, 20)\\nprint(r)\", 'print_more': <function print_more at 0x11241a8c0>, 'print_info': <function print_info at 0x11241ae60>, 'add_num': <function print_info.<locals>.wrapper at 0x11241a710>, 'r': 30, '_i22': \"def print_more(func):\\n    def wrapper(*args, **kwargs):\\n        print('func:', func.__name__)\\n        result = func(*args, **kwargs)\\n        return result\\n    return warpper\\n\\ndef print_info(func):\\n    def wrapper(*args, **kwargs):\\n        print('start')\\n        result = func(*args, **kwargs)\\n        print('end')\\n        return result\\n    return wrapper\\n\\n@print_info\\n@print_more\\ndef add_num(a, b):\\n    return a + b\\n\\nr = add_num(10, 20)\\nprint(r)\", '_i23': \"def print_more(func):\\n    def wrapper(*args, **kwargs):\\n        print('func:', func.__name__)\\n        result = func(*args, **kwargs)\\n        return result\\n    return wrapper\\n\\ndef print_info(func):\\n    def wrapper(*args, **kwargs):\\n        print('start')\\n        result = func(*args, **kwargs)\\n        print('end')\\n        return result\\n    return wrapper\\n\\n@print_info\\n@print_more\\ndef add_num(a, b):\\n    return a + b\\n\\nr = add_num(10, 20)\\nprint(r)\", '_i24': \"def print_more(func):\\n    def wrapper(*args, **kwargs):\\n        print('func:', func.__name__)\\n        result = func(*args, **kwargs)\\n        return result\\n    return wrapper\\n\\ndef print_info(func):\\n    def wrapper(*args, **kwargs):\\n        print('start')\\n        result = func(*args, **kwargs)\\n        print('end')\\n        return result\\n    return wrapper\\n\\n@print_more\\n@print_info\\ndef add_num(a, b):\\n    return a + b\\n\\nr = add_num(10, 20)\\nprint(r)\", '_i25': \"def print_more(func):\\n    def wrapper(*args, **kwargs):\\n        print('func:', func.__name__)\\n        result = func(*args, **kwargs)\\n        return result\\n    return wrapper\\n\\ndef print_info(func):\\n    def wrapper(*args, **kwargs):\\n        print('start')\\n        result = func(*args, **kwargs)\\n        print('end')\\n        return result\\n    return wrapper\\n\\n@print_info\\n@print_more\\ndef add_num(a, b):\\n    return a + b\\n\\nr = add_num(10, 20)\\nprint(r)\", '_i26': \"def print_more(func):\\n    def wrapper(*args, **kwargs):\\n        print('func:', func.__name__)\\n        print('args', args)\\n        print('kwargs', kwargs)\\n        result = func(*args, **kwargs)\\n        print('result', result)\\n        return result\\n    return wrapper\\n\\ndef print_info(func):\\n    def wrapper(*args, **kwargs):\\n        print('start')\\n        result = func(*args, **kwargs)\\n        print('end')\\n        return result\\n    return wrapper\\n\\n@print_info\\n@print_more # 顺序有影响！\\ndef add_num(a, b):\\n    return a + b\\n\\nr = add_num(10, 20)\\nprint(r)\", '_i27': \"def print_more(func):\\n    def wrapper(*args, **kwargs):\\n        print('func:', func.__name__)\\n        print('args', args)\\n        print('kwargs', kwargs)\\n        result = func(*args, **kwargs)\\n        print('result', result)\\n        return result\\n    return wrapper\\n\\ndef print_info(func):\\n    def wrapper(*args, **kwargs):\\n        print('start')\\n        result = func(*args, **kwargs)\\n        print('end')\\n        return result\\n    return wrapper\\n\\n@print_info\\n@print_more # 顺序有影响！\\ndef add_num(a, b):\\n    return a + b\\n\\nr = add_num(10, 20)\\nprint(r)\", '_i28': \"word = ['mon', 'tue', 'wed']\", 'word': ['mon', 'tue', 'wed'], '_i29': \"word = ['mon', 'tue', 'wed']\\ndef sample_func(word):\\n    return word.capitalize()\", 'sample_func': <function sample_func at 0x11242fa70>, '_i30': \"word = ['mon', 'tue', 'wed']\\ndef sample_func(word):\\n    return word.capitalize()\\nprint(sample_func(word))\", '_i31': \"words = ['mon', 'tue', 'wed']\\ndef change_words(words, func):\\n    for word in words:\\n        print(func(word))\\n        \\nprint(sample_func(word))\", 'words': ['mon', 'tue', 'wed'], 'change_words': <function change_words at 0x11242f5f0>, '_i32': \"words = ['mon', 'tue', 'wed']\\n\\ndef change_words(words, func):\\n    for word in words:\\n        print(func(word))\\n\\ndef sample_func(word):\\n    return word.capitalize()\\n        \", '_i33': \"words = ['mon', 'tue', 'wed']\\n\\ndef change_words(words, func):\\n    for word in words:\\n        print(func(word))\\n\\ndef sample_func(word):\\n    return word.capitalize()\\n     \\nchange_words(words,sample_func)\", '_i34': \"words = ['mon', 'tue', 'wed']\\n\\ndef change_words(words, func):\\n    for word in words:\\n        print(func(word))\\n\\ndef sample_func(word):\\n    return word.capitalize()\\n     \\nchange_words(words,sample_func)\\n\\nchange_words(l, word: lambda word: word.capitalize())\", '_i35': \"words = ['mon', 'tue', 'wed']\\n\\ndef change_words(words, func):\\n    for word in words:\\n        print(func(word))\\n\\ndef sample_func(word):\\n    return word.capitalize()\\n     \\nchange_words(words,sample_func)\\n\\nchange_words(l, lambda word: word.capitalize())\", '_i36': \"words = ['mon', 'tue', 'wed']\\n\\ndef change_words(words, func):\\n    for word in words:\\n        print(func(word))\\n\\ndef sample_func(word):\\n    return word.capitalize()\\n     \\nchange_words(words,sample_func)\\n\\nchange_words(words, lambda word: word.capitalize())\", '_i37': \"words = ['mon', 'tue', 'wed']\\n\\ndef change_words(words, func):\\n    for word in words:\\n        print(func(word))\\n\\n#def sample_func(word):\\n#    return word.capitalize()\\n     \\n#change_words(words,sample_func) #可以用下面一行来替代。\\n\\n\\nchange_words(words, lambda word: word.capitalize())\", '_i38': \"def counter(num=5):\\n    for _ in range(num):\\n        yield 'run'\", 'counter': <function counter at 0x11242f560>, '_i39': \"def counter(num=5):\\n    for _ in range(num):\\n        yield 'run'\\n\\nc = counter()\\nprint(next(c))\", 'c': <generator object counter at 0x112463250>, '_i40': \"def counter(num=5):\\n    for _ in range(num):\\n        yield 'run'\\n\\nc = counter()\\nprint(next(c))\\nprint(next(c))\\nprint(next(c))\\nprint(next(c))\", '_i41': \"def counter(num=3):\\n    for _ in range(num):\\n        yield 'run'\\n\\nc = counter()\\nprint(next(c))\\nprint(next(c))\\nprint(next(c))\\nprint(next(c))\", '_i42': \"def counter(num=3):\\n    for _ in range(num):\\n        yield 'run'\\n\\nc = counter()\\nprint(next(c))\\nprint(next(c))\\nprint(next(c))\\nprint(next(c))\", '_i43': \"words = ['mon', 'tue', 'wed']\\n\\ndef change_words(words, func):\\n    for word in words:\\n        print(func(word))\\n\\n#def sample_func(word):\\n#    return word.capitalize()\\n     \\n#change_words(words,sample_func) #可以用下面一行来替代。\\n\\n\\nchange_words(words, lambda word: word.capitalize())\\n\\nl = map(lambda x: x ** 2, [1, 2, 3, 4, 5])\", 'l': [1, 4, 9, 16, 25], '_i44': \"words = ['mon', 'tue', 'wed']\\n\\ndef change_words(words, func):\\n    for word in words:\\n        print(func(word))\\n\\n#def sample_func(word):\\n#    return word.capitalize()\\n     \\n#change_words(words,sample_func) #可以用下面一行来替代。\\n\\n\\nchange_words(words, lambda word: word.capitalize())\\n\\nl = map(lambda x: x ** 2, [1, 2, 3, 4, 5])\\nprint(l)\", '_i45': \"words = ['mon', 'tue', 'wed']\\n\\ndef change_words(words, func):\\n    for word in words:\\n        print(func(word))\\n\\n#def sample_func(word):\\n#    return word.capitalize()\\n     \\n#change_words(words,sample_func) #可以用下面一行来替代。\\n\\n\\nchange_words(words, lambda word: word.capitalize())\\n\\nm = map(lambda x: x ** 2, [1, 2, 3, 4, 5])\\nprint(m)\", 'm': <map object at 0x112541dd0>, '_i46': \"words = ['mon', 'tue', 'wed']\\n\\ndef change_words(words, func):\\n    for word in words:\\n        print(func(word))\\n\\n#def sample_func(word):\\n#    return word.capitalize()\\n     \\n#change_words(words,sample_func) #可以用下面一行来替代。\\n\\n\\nchange_words(words, lambda word: word.capitalize())\\n\\nm = map(lambda x: x ** 2, [1, 2, 3, 4, 5])\\nprint(m)\\nl = list[m]\\nprint(l)\", '_i47': \"words = ['mon', 'tue', 'wed']\\n\\ndef change_words(words, func):\\n    for word in words:\\n        print(func(word))\\n\\n#def sample_func(word):\\n#    return word.capitalize()\\n     \\n#change_words(words,sample_func) #可以用下面一行来替代。\\n\\n\\nchange_words(words, lambda word: word.capitalize())\\n\\nm = map(lambda x: x ** 2, [1, 2, 3, 4, 5])\\nprint(m)\\nl = list(m)\\nprint(l)\", '_i48': \"words = ['mon', 'tue', 'wed']\\n\\ndef change_words(words, func):\\n    for word in words:\\n        print(func(word))\\n\\n#def sample_func(word):\\n#    return word.capitalize()\\n     \\n#change_words(words,sample_func) #可以用下面一行来替代。\\n\\n\\nchange_words(words, lambda word: word.capitalize())\\n\\nm = map(lambda x: x ** 2, [1, 2, 3, 4, 5])\\nprint(m)\\nl = list(m) # 套一个list才能显示出值来\\nprint(l)\", '_i49': \"animal = 'cat'\\n\\ndef f():\\n    animal = 'dog'\\n    print('local:', locals())\\n    \", 'animal': 'cat', '_i50': \"animal = 'cat'\\n\\ndef f():\\n    animal = 'dog'\\n    print('local:', locals())\\n\\n    f()\", '_i51': \"animal = 'cat'\\n\\ndef f():\\n    animal = 'dog'\\n    print('local:', locals())\\n\\nf()\", '_i52': \"animal = 'cat'\\n\\ndef f():\\n    animal = 'dog'\\n    print('local:', locals())\\n\\nf()\\nprint('global:', globals)\", '_i53': \"animal = 'cat'\\n\\ndef f():\\n    animal = 'dog'\\n    print('local:', locals())\\n\\nf()\\nprint('global:', globals())\", '_i54': 'animal = \\'cat\\'\\n\\ndef f():\\n    \"\"\"test func doc\"\"\"\\n    animal = \\'dog\\'\\n    print(f.__name__)\\n    print(f.__doc__)\\n    print(\\'local:\\', locals())\\n\\nf()\\nprint(\\'global:\\', globals())# 输出一大串'}\n"
     ]
    }
   ],
   "source": [
    "animal = 'cat'\n",
    "\n",
    "def f():\n",
    "    \"\"\"test func doc\"\"\"\n",
    "    animal = 'dog'\n",
    "    print(f.__name__)\n",
    "    print(f.__doc__)\n",
    "    print('local:', locals())\n",
    "\n",
    "f()\n",
    "print('global:', globals())# 输出一大串"
   ]
  },
  {
   "cell_type": "markdown",
   "metadata": {},
   "source": [
    "例外処理:就没有那么一大串了。"
   ]
  },
  {
   "cell_type": "code",
   "execution_count": 59,
   "metadata": {},
   "outputs": [
    {
     "name": "stdout",
     "output_type": "stream",
     "text": [
      "Don't worry: list index out of range\n",
      "clean up\n"
     ]
    }
   ],
   "source": [
    "l = [1, 2, 3]\n",
    "i = 5\n",
    "\n",
    "try:\n",
    "    l[i]\n",
    "except IndexError as ex:\n",
    "    print(\"Don't worry: {}\".format(ex))\n",
    "except NameError as ex:\n",
    "    print(ex)\n",
    "else:\n",
    "    print('done')\n",
    "finally:\n",
    "    print('clean up')"
   ]
  },
  {
   "cell_type": "markdown",
   "metadata": {},
   "source": [
    "自制例外"
   ]
  },
  {
   "cell_type": "code",
   "execution_count": 60,
   "metadata": {},
   "outputs": [
    {
     "name": "stdout",
     "output_type": "stream",
     "text": [
      "This is my fault. Go next\n"
     ]
    }
   ],
   "source": [
    "class UppercaseError(Exception):\n",
    "    pass\n",
    "\n",
    "def check():\n",
    "    words = ['APPLE', 'orange', 'banana']\n",
    "    for word in words:\n",
    "        if word.isupper():\n",
    "            raise UppercaseError(word)\n",
    "\n",
    "try:\n",
    "    check()\n",
    "except UppercaseError as exc:\n",
    "    print('This is my fault. Go next')"
   ]
  },
  {
   "cell_type": "code",
   "execution_count": null,
   "metadata": {},
   "outputs": [],
   "source": []
  }
 ],
 "metadata": {
  "kernelspec": {
   "display_name": "Python 3",
   "language": "python",
   "name": "python3"
  },
  "language_info": {
   "codemirror_mode": {
    "name": "ipython",
    "version": 3
   },
   "file_extension": ".py",
   "mimetype": "text/x-python",
   "name": "python",
   "nbconvert_exporter": "python",
   "pygments_lexer": "ipython3",
   "version": "3.7.7"
  }
 },
 "nbformat": 4,
 "nbformat_minor": 4
}
